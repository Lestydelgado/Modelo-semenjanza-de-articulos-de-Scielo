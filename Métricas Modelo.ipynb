{
 "cells": [
  {
   "cell_type": "code",
   "execution_count": 1,
   "metadata": {},
   "outputs": [],
   "source": [
    "import pandas as pd"
   ]
  },
  {
   "cell_type": "code",
   "execution_count": 2,
   "metadata": {},
   "outputs": [
    {
     "name": "stderr",
     "output_type": "stream",
     "text": [
      "C:\\Users\\YORLEY\\Anaconda3\\lib\\site-packages\\IPython\\core\\interactiveshell.py:3020: DtypeWarning: Columns (7,21,22,24) have mixed types. Specify dtype option on import or set low_memory=False.\n",
      "  interactivity=interactivity, compiler=compiler, result=result)\n"
     ]
    }
   ],
   "source": [
    "df = pd.read_csv(r'Data/scopus_bd_aumentada.csv', sep=\",\")"
   ]
  },
  {
   "cell_type": "code",
   "execution_count": 3,
   "metadata": {},
   "outputs": [
    {
     "data": {
      "text/plain": [
       "Index(['Authors', 'Author(s)_ID', 'Authors_Rev', 'Author(s)_ID_Rev', 'Title',\n",
       "       'Year', 'Source_title', 'Volume', 'Issue', 'Art._No.', 'Page_start',\n",
       "       'Page_end', 'Page_count', 'Cited_by', 'DOI', 'Link', 'Affiliations',\n",
       "       'Authors_with_affiliations', 'Abstract', 'Author_Keywords',\n",
       "       'Index_Keywords', 'ISSN', 'ISBN', 'CODEN', 'PubMed_ID', 'Document_Type',\n",
       "       'Publication_Stage', 'Access_Type', 'Source', 'EID'],\n",
       "      dtype='object')"
      ]
     },
     "execution_count": 3,
     "metadata": {},
     "output_type": "execute_result"
    }
   ],
   "source": [
    "df.columns"
   ]
  },
  {
   "cell_type": "code",
   "execution_count": 57,
   "metadata": {},
   "outputs": [
    {
     "name": "stdout",
     "output_type": "stream",
     "text": [
      "<class 'pandas.core.frame.DataFrame'>\n",
      "RangeIndex: 177350 entries, 0 to 177349\n",
      "Data columns (total 30 columns):\n",
      "Authors                      177350 non-null object\n",
      "Author(s)_ID                 177350 non-null object\n",
      "Authors_Rev                  177350 non-null object\n",
      "Author(s)_ID_Rev             177132 non-null object\n",
      "Title                        177350 non-null object\n",
      "Year                         177350 non-null int64\n",
      "Source_title                 177350 non-null object\n",
      "Volume                       173848 non-null object\n",
      "Issue                        171373 non-null object\n",
      "Art._No.                     11709 non-null object\n",
      "Page_start                   161714 non-null object\n",
      "Page_end                     159858 non-null object\n",
      "Page_count                   1287 non-null float64\n",
      "Cited_by                     115720 non-null float64\n",
      "DOI                          97162 non-null object\n",
      "Link                         177350 non-null object\n",
      "Affiliations                 174552 non-null object\n",
      "Authors_with_affiliations    176960 non-null object\n",
      "Abstract                     177350 non-null object\n",
      "Author_Keywords              150529 non-null object\n",
      "Index_Keywords               107541 non-null object\n",
      "ISSN                         177048 non-null object\n",
      "ISBN                         129 non-null object\n",
      "CODEN                        35972 non-null object\n",
      "PubMed_ID                    9357 non-null object\n",
      "Document_Type                177255 non-null object\n",
      "Publication_Stage            177350 non-null object\n",
      "Access_Type                  85133 non-null object\n",
      "Source                       177350 non-null object\n",
      "EID                          177350 non-null object\n",
      "dtypes: float64(2), int64(1), object(27)\n",
      "memory usage: 40.6+ MB\n"
     ]
    }
   ],
   "source": [
    "df.info()"
   ]
  },
  {
   "cell_type": "code",
   "execution_count": 4,
   "metadata": {},
   "outputs": [
    {
     "data": {
      "text/html": [
       "<div>\n",
       "<style scoped>\n",
       "    .dataframe tbody tr th:only-of-type {\n",
       "        vertical-align: middle;\n",
       "    }\n",
       "\n",
       "    .dataframe tbody tr th {\n",
       "        vertical-align: top;\n",
       "    }\n",
       "\n",
       "    .dataframe thead th {\n",
       "        text-align: right;\n",
       "    }\n",
       "</style>\n",
       "<table border=\"1\" class=\"dataframe\">\n",
       "  <thead>\n",
       "    <tr style=\"text-align: right;\">\n",
       "      <th></th>\n",
       "      <th>Authors</th>\n",
       "      <th>Author(s)_ID</th>\n",
       "      <th>Authors_Rev</th>\n",
       "      <th>Author(s)_ID_Rev</th>\n",
       "      <th>Title</th>\n",
       "      <th>Year</th>\n",
       "      <th>Source_title</th>\n",
       "      <th>Volume</th>\n",
       "      <th>Issue</th>\n",
       "      <th>Art._No.</th>\n",
       "      <th>...</th>\n",
       "      <th>Index_Keywords</th>\n",
       "      <th>ISSN</th>\n",
       "      <th>ISBN</th>\n",
       "      <th>CODEN</th>\n",
       "      <th>PubMed_ID</th>\n",
       "      <th>Document_Type</th>\n",
       "      <th>Publication_Stage</th>\n",
       "      <th>Access_Type</th>\n",
       "      <th>Source</th>\n",
       "      <th>EID</th>\n",
       "    </tr>\n",
       "  </thead>\n",
       "  <tbody>\n",
       "    <tr>\n",
       "      <th>0</th>\n",
       "      <td>Vanzolini P.E.</td>\n",
       "      <td>6602373241</td>\n",
       "      <td>Vanzolini P.E.</td>\n",
       "      <td>6602373241</td>\n",
       "      <td>On Gymnodactylus amarali Barbour, 1925, with t...</td>\n",
       "      <td>2005</td>\n",
       "      <td>Anais da Academia Brasileira de Ciencias</td>\n",
       "      <td>77</td>\n",
       "      <td>4</td>\n",
       "      <td>NaN</td>\n",
       "      <td>...</td>\n",
       "      <td>animal; article; Brazil; classification; compa...</td>\n",
       "      <td>13765</td>\n",
       "      <td>NaN</td>\n",
       "      <td>NaN</td>\n",
       "      <td>1.63414e+07</td>\n",
       "      <td>Article</td>\n",
       "      <td>Final</td>\n",
       "      <td>NaN</td>\n",
       "      <td>Scopus</td>\n",
       "      <td>2-s2.0-31044450573</td>\n",
       "    </tr>\n",
       "    <tr>\n",
       "      <th>1</th>\n",
       "      <td>De Wagener A.L.R.</td>\n",
       "      <td>7004422261</td>\n",
       "      <td>De Wagener A.L.R.</td>\n",
       "      <td>7004422261</td>\n",
       "      <td>Constraints to the implementation of effective...</td>\n",
       "      <td>2005</td>\n",
       "      <td>Anais da Academia Brasileira de Ciencias</td>\n",
       "      <td>77</td>\n",
       "      <td>4</td>\n",
       "      <td>NaN</td>\n",
       "      <td>...</td>\n",
       "      <td>article; developing country; environmental mon...</td>\n",
       "      <td>13765</td>\n",
       "      <td>NaN</td>\n",
       "      <td>NaN</td>\n",
       "      <td>1.63414e+07</td>\n",
       "      <td>Article</td>\n",
       "      <td>Final</td>\n",
       "      <td>NaN</td>\n",
       "      <td>Scopus</td>\n",
       "      <td>2-s2.0-31044447222</td>\n",
       "    </tr>\n",
       "    <tr>\n",
       "      <th>2</th>\n",
       "      <td>Mexias A.S., Berger G., Gomes M.E.B., Formoso ...</td>\n",
       "      <td>11739855600;7202349172;11738879800;6603689065;...</td>\n",
       "      <td>Mexias A.S.</td>\n",
       "      <td>11739855600</td>\n",
       "      <td>Geochemical modeling of gold precipitation con...</td>\n",
       "      <td>2005</td>\n",
       "      <td>Anais da Academia Brasileira de Ciencias</td>\n",
       "      <td>77</td>\n",
       "      <td>4</td>\n",
       "      <td>NaN</td>\n",
       "      <td>...</td>\n",
       "      <td>article; Butia</td>\n",
       "      <td>13765</td>\n",
       "      <td>NaN</td>\n",
       "      <td>NaN</td>\n",
       "      <td>1.63414e+07</td>\n",
       "      <td>Article</td>\n",
       "      <td>Final</td>\n",
       "      <td>NaN</td>\n",
       "      <td>Scopus</td>\n",
       "      <td>2-s2.0-31044441319</td>\n",
       "    </tr>\n",
       "    <tr>\n",
       "      <th>3</th>\n",
       "      <td>Mexias A.S., Berger G., Gomes M.E.B., Formoso ...</td>\n",
       "      <td>11739855600;7202349172;11738879800;6603689065;...</td>\n",
       "      <td>Berger G.</td>\n",
       "      <td>7202349172</td>\n",
       "      <td>Geochemical modeling of gold precipitation con...</td>\n",
       "      <td>2005</td>\n",
       "      <td>Anais da Academia Brasileira de Ciencias</td>\n",
       "      <td>77</td>\n",
       "      <td>4</td>\n",
       "      <td>NaN</td>\n",
       "      <td>...</td>\n",
       "      <td>article; Butia</td>\n",
       "      <td>13765</td>\n",
       "      <td>NaN</td>\n",
       "      <td>NaN</td>\n",
       "      <td>1.63414e+07</td>\n",
       "      <td>Article</td>\n",
       "      <td>Final</td>\n",
       "      <td>NaN</td>\n",
       "      <td>Scopus</td>\n",
       "      <td>2-s2.0-31044441319</td>\n",
       "    </tr>\n",
       "    <tr>\n",
       "      <th>4</th>\n",
       "      <td>Mexias A.S., Berger G., Gomes M.E.B., Formoso ...</td>\n",
       "      <td>11739855600;7202349172;11738879800;6603689065;...</td>\n",
       "      <td>Gomes M.E.B.</td>\n",
       "      <td>11738879800</td>\n",
       "      <td>Geochemical modeling of gold precipitation con...</td>\n",
       "      <td>2005</td>\n",
       "      <td>Anais da Academia Brasileira de Ciencias</td>\n",
       "      <td>77</td>\n",
       "      <td>4</td>\n",
       "      <td>NaN</td>\n",
       "      <td>...</td>\n",
       "      <td>article; Butia</td>\n",
       "      <td>13765</td>\n",
       "      <td>NaN</td>\n",
       "      <td>NaN</td>\n",
       "      <td>1.63414e+07</td>\n",
       "      <td>Article</td>\n",
       "      <td>Final</td>\n",
       "      <td>NaN</td>\n",
       "      <td>Scopus</td>\n",
       "      <td>2-s2.0-31044441319</td>\n",
       "    </tr>\n",
       "  </tbody>\n",
       "</table>\n",
       "<p>5 rows × 30 columns</p>\n",
       "</div>"
      ],
      "text/plain": [
       "                                             Authors  \\\n",
       "0                                     Vanzolini P.E.   \n",
       "1                                  De Wagener A.L.R.   \n",
       "2  Mexias A.S., Berger G., Gomes M.E.B., Formoso ...   \n",
       "3  Mexias A.S., Berger G., Gomes M.E.B., Formoso ...   \n",
       "4  Mexias A.S., Berger G., Gomes M.E.B., Formoso ...   \n",
       "\n",
       "                                        Author(s)_ID        Authors_Rev  \\\n",
       "0                                         6602373241     Vanzolini P.E.   \n",
       "1                                         7004422261  De Wagener A.L.R.   \n",
       "2  11739855600;7202349172;11738879800;6603689065;...        Mexias A.S.   \n",
       "3  11739855600;7202349172;11738879800;6603689065;...          Berger G.   \n",
       "4  11739855600;7202349172;11738879800;6603689065;...       Gomes M.E.B.   \n",
       "\n",
       "  Author(s)_ID_Rev                                              Title  Year  \\\n",
       "0       6602373241  On Gymnodactylus amarali Barbour, 1925, with t...  2005   \n",
       "1       7004422261  Constraints to the implementation of effective...  2005   \n",
       "2      11739855600  Geochemical modeling of gold precipitation con...  2005   \n",
       "3       7202349172  Geochemical modeling of gold precipitation con...  2005   \n",
       "4      11738879800  Geochemical modeling of gold precipitation con...  2005   \n",
       "\n",
       "                               Source_title Volume Issue Art._No.  \\\n",
       "0  Anais da Academia Brasileira de Ciencias     77     4      NaN   \n",
       "1  Anais da Academia Brasileira de Ciencias     77     4      NaN   \n",
       "2  Anais da Academia Brasileira de Ciencias     77     4      NaN   \n",
       "3  Anais da Academia Brasileira de Ciencias     77     4      NaN   \n",
       "4  Anais da Academia Brasileira de Ciencias     77     4      NaN   \n",
       "\n",
       "          ...                                             Index_Keywords  \\\n",
       "0         ...          animal; article; Brazil; classification; compa...   \n",
       "1         ...          article; developing country; environmental mon...   \n",
       "2         ...                                             article; Butia   \n",
       "3         ...                                             article; Butia   \n",
       "4         ...                                             article; Butia   \n",
       "\n",
       "    ISSN  ISBN  CODEN    PubMed_ID Document_Type Publication_Stage  \\\n",
       "0  13765   NaN    NaN  1.63414e+07       Article             Final   \n",
       "1  13765   NaN    NaN  1.63414e+07       Article             Final   \n",
       "2  13765   NaN    NaN  1.63414e+07       Article             Final   \n",
       "3  13765   NaN    NaN  1.63414e+07       Article             Final   \n",
       "4  13765   NaN    NaN  1.63414e+07       Article             Final   \n",
       "\n",
       "  Access_Type  Source                 EID  \n",
       "0         NaN  Scopus  2-s2.0-31044450573  \n",
       "1         NaN  Scopus  2-s2.0-31044447222  \n",
       "2         NaN  Scopus  2-s2.0-31044441319  \n",
       "3         NaN  Scopus  2-s2.0-31044441319  \n",
       "4         NaN  Scopus  2-s2.0-31044441319  \n",
       "\n",
       "[5 rows x 30 columns]"
      ]
     },
     "execution_count": 4,
     "metadata": {},
     "output_type": "execute_result"
    }
   ],
   "source": [
    "df.head(5)"
   ]
  },
  {
   "cell_type": "code",
   "execution_count": 5,
   "metadata": {},
   "outputs": [],
   "source": [
    "df_authors = df[['Authors','Author(s)_ID_Rev']][:].drop_duplicates()"
   ]
  },
  {
   "cell_type": "code",
   "execution_count": 58,
   "metadata": {},
   "outputs": [
    {
     "data": {
      "text/plain": [
       "171620"
      ]
     },
     "execution_count": 58,
     "metadata": {},
     "output_type": "execute_result"
    }
   ],
   "source": [
    "len(df_authors['Authors'])"
   ]
  },
  {
   "cell_type": "code",
   "execution_count": 7,
   "metadata": {},
   "outputs": [
    {
     "data": {
      "text/html": [
       "<div>\n",
       "<style scoped>\n",
       "    .dataframe tbody tr th:only-of-type {\n",
       "        vertical-align: middle;\n",
       "    }\n",
       "\n",
       "    .dataframe tbody tr th {\n",
       "        vertical-align: top;\n",
       "    }\n",
       "\n",
       "    .dataframe thead th {\n",
       "        text-align: right;\n",
       "    }\n",
       "</style>\n",
       "<table border=\"1\" class=\"dataframe\">\n",
       "  <thead>\n",
       "    <tr style=\"text-align: right;\">\n",
       "      <th></th>\n",
       "      <th>Authors</th>\n",
       "      <th>Author(s)_ID_Rev</th>\n",
       "    </tr>\n",
       "  </thead>\n",
       "  <tbody>\n",
       "    <tr>\n",
       "      <th>0</th>\n",
       "      <td>Vanzolini P.E.</td>\n",
       "      <td>6602373241</td>\n",
       "    </tr>\n",
       "    <tr>\n",
       "      <th>1</th>\n",
       "      <td>De Wagener A.L.R.</td>\n",
       "      <td>7004422261</td>\n",
       "    </tr>\n",
       "    <tr>\n",
       "      <th>2</th>\n",
       "      <td>Mexias A.S., Berger G., Gomes M.E.B., Formoso ...</td>\n",
       "      <td>11739855600</td>\n",
       "    </tr>\n",
       "    <tr>\n",
       "      <th>3</th>\n",
       "      <td>Mexias A.S., Berger G., Gomes M.E.B., Formoso ...</td>\n",
       "      <td>7202349172</td>\n",
       "    </tr>\n",
       "    <tr>\n",
       "      <th>4</th>\n",
       "      <td>Mexias A.S., Berger G., Gomes M.E.B., Formoso ...</td>\n",
       "      <td>11738879800</td>\n",
       "    </tr>\n",
       "    <tr>\n",
       "      <th>5</th>\n",
       "      <td>Mexias A.S., Berger G., Gomes M.E.B., Formoso ...</td>\n",
       "      <td>6603689065</td>\n",
       "    </tr>\n",
       "    <tr>\n",
       "      <th>6</th>\n",
       "      <td>Mexias A.S., Berger G., Gomes M.E.B., Formoso ...</td>\n",
       "      <td>6507369527</td>\n",
       "    </tr>\n",
       "    <tr>\n",
       "      <th>7</th>\n",
       "      <td>Mexias A.S., Berger G., Gomes M.E.B., Formoso ...</td>\n",
       "      <td>11739533300</td>\n",
       "    </tr>\n",
       "    <tr>\n",
       "      <th>8</th>\n",
       "      <td>Mexias A.S., Berger G., Gomes M.E.B., Formoso ...</td>\n",
       "      <td>11739290800</td>\n",
       "    </tr>\n",
       "    <tr>\n",
       "      <th>9</th>\n",
       "      <td>Mulloy B.</td>\n",
       "      <td>55179052500</td>\n",
       "    </tr>\n",
       "  </tbody>\n",
       "</table>\n",
       "</div>"
      ],
      "text/plain": [
       "                                             Authors Author(s)_ID_Rev\n",
       "0                                     Vanzolini P.E.       6602373241\n",
       "1                                  De Wagener A.L.R.       7004422261\n",
       "2  Mexias A.S., Berger G., Gomes M.E.B., Formoso ...      11739855600\n",
       "3  Mexias A.S., Berger G., Gomes M.E.B., Formoso ...       7202349172\n",
       "4  Mexias A.S., Berger G., Gomes M.E.B., Formoso ...      11738879800\n",
       "5  Mexias A.S., Berger G., Gomes M.E.B., Formoso ...       6603689065\n",
       "6  Mexias A.S., Berger G., Gomes M.E.B., Formoso ...       6507369527\n",
       "7  Mexias A.S., Berger G., Gomes M.E.B., Formoso ...      11739533300\n",
       "8  Mexias A.S., Berger G., Gomes M.E.B., Formoso ...      11739290800\n",
       "9                                          Mulloy B.      55179052500"
      ]
     },
     "execution_count": 7,
     "metadata": {},
     "output_type": "execute_result"
    }
   ],
   "source": [
    "df_authors.head(10)"
   ]
  },
  {
   "cell_type": "markdown",
   "metadata": {},
   "source": [
    "### Total Citaciones"
   ]
  },
  {
   "cell_type": "code",
   "execution_count": 35,
   "metadata": {},
   "outputs": [
    {
     "data": {
      "text/html": [
       "<div>\n",
       "<style scoped>\n",
       "    .dataframe tbody tr th:only-of-type {\n",
       "        vertical-align: middle;\n",
       "    }\n",
       "\n",
       "    .dataframe tbody tr th {\n",
       "        vertical-align: top;\n",
       "    }\n",
       "\n",
       "    .dataframe thead th {\n",
       "        text-align: right;\n",
       "    }\n",
       "</style>\n",
       "<table border=\"1\" class=\"dataframe\">\n",
       "  <thead>\n",
       "    <tr style=\"text-align: right;\">\n",
       "      <th></th>\n",
       "      <th>Author(s)_ID_Rev</th>\n",
       "      <th>Cited_by</th>\n",
       "    </tr>\n",
       "  </thead>\n",
       "  <tbody>\n",
       "    <tr>\n",
       "      <th>0</th>\n",
       "      <td>1</td>\n",
       "      <td>0.0</td>\n",
       "    </tr>\n",
       "    <tr>\n",
       "      <th>1</th>\n",
       "      <td>10038943700</td>\n",
       "      <td>12.0</td>\n",
       "    </tr>\n",
       "    <tr>\n",
       "      <th>2</th>\n",
       "      <td>10039167100</td>\n",
       "      <td>9.0</td>\n",
       "    </tr>\n",
       "    <tr>\n",
       "      <th>3</th>\n",
       "      <td>10039295200</td>\n",
       "      <td>19.0</td>\n",
       "    </tr>\n",
       "    <tr>\n",
       "      <th>4</th>\n",
       "      <td>10039317900</td>\n",
       "      <td>22.0</td>\n",
       "    </tr>\n",
       "  </tbody>\n",
       "</table>\n",
       "</div>"
      ],
      "text/plain": [
       "  Author(s)_ID_Rev  Cited_by\n",
       "0                1       0.0\n",
       "1      10038943700      12.0\n",
       "2      10039167100       9.0\n",
       "3      10039295200      19.0\n",
       "4      10039317900      22.0"
      ]
     },
     "execution_count": 35,
     "metadata": {},
     "output_type": "execute_result"
    }
   ],
   "source": [
    "df_temp=df[['Author(s)_ID_Rev', 'Cited_by']].groupby(by='Author(s)_ID_Rev').sum()\n",
    "df_temp.reset_index(level=0, inplace=True)\n",
    "df_temp.head()"
   ]
  },
  {
   "cell_type": "code",
   "execution_count": 37,
   "metadata": {},
   "outputs": [
    {
     "data": {
      "text/plain": [
       "171620"
      ]
     },
     "execution_count": 37,
     "metadata": {},
     "output_type": "execute_result"
    }
   ],
   "source": [
    "df_authors = df_authors.merge(right=df_temp, how='inner', on='Author(s)_ID_Rev')\n",
    "len(df_authors['Cited_by'])"
   ]
  },
  {
   "cell_type": "code",
   "execution_count": 10,
   "metadata": {},
   "outputs": [
    {
     "data": {
      "text/html": [
       "<div>\n",
       "<style scoped>\n",
       "    .dataframe tbody tr th:only-of-type {\n",
       "        vertical-align: middle;\n",
       "    }\n",
       "\n",
       "    .dataframe tbody tr th {\n",
       "        vertical-align: top;\n",
       "    }\n",
       "\n",
       "    .dataframe thead th {\n",
       "        text-align: right;\n",
       "    }\n",
       "</style>\n",
       "<table border=\"1\" class=\"dataframe\">\n",
       "  <thead>\n",
       "    <tr style=\"text-align: right;\">\n",
       "      <th></th>\n",
       "      <th>Authors</th>\n",
       "      <th>Author(s)_ID_Rev</th>\n",
       "      <th>Cited_by</th>\n",
       "    </tr>\n",
       "  </thead>\n",
       "  <tbody>\n",
       "    <tr>\n",
       "      <th>0</th>\n",
       "      <td>Vanzolini P.E.</td>\n",
       "      <td>6602373241</td>\n",
       "      <td>62.0</td>\n",
       "    </tr>\n",
       "    <tr>\n",
       "      <th>1</th>\n",
       "      <td>Vanzolini P.E., Calleffo M.E.V.</td>\n",
       "      <td>6602373241</td>\n",
       "      <td>62.0</td>\n",
       "    </tr>\n",
       "    <tr>\n",
       "      <th>2</th>\n",
       "      <td>De Wagener A.L.R.</td>\n",
       "      <td>7004422261</td>\n",
       "      <td>6.0</td>\n",
       "    </tr>\n",
       "    <tr>\n",
       "      <th>3</th>\n",
       "      <td>Mexias A.S., Berger G., Gomes M.E.B., Formoso ...</td>\n",
       "      <td>11739855600</td>\n",
       "      <td>11.0</td>\n",
       "    </tr>\n",
       "    <tr>\n",
       "      <th>4</th>\n",
       "      <td>Bongiolo E.M., Bongiolo D.E., Sardini P., Mexi...</td>\n",
       "      <td>11739855600</td>\n",
       "      <td>11.0</td>\n",
       "    </tr>\n",
       "  </tbody>\n",
       "</table>\n",
       "</div>"
      ],
      "text/plain": [
       "                                             Authors Author(s)_ID_Rev  \\\n",
       "0                                     Vanzolini P.E.       6602373241   \n",
       "1                    Vanzolini P.E., Calleffo M.E.V.       6602373241   \n",
       "2                                  De Wagener A.L.R.       7004422261   \n",
       "3  Mexias A.S., Berger G., Gomes M.E.B., Formoso ...      11739855600   \n",
       "4  Bongiolo E.M., Bongiolo D.E., Sardini P., Mexi...      11739855600   \n",
       "\n",
       "   Cited_by  \n",
       "0      62.0  \n",
       "1      62.0  \n",
       "2       6.0  \n",
       "3      11.0  \n",
       "4      11.0  "
      ]
     },
     "execution_count": 10,
     "metadata": {},
     "output_type": "execute_result"
    }
   ],
   "source": [
    "df_authors.head()"
   ]
  },
  {
   "cell_type": "markdown",
   "metadata": {},
   "source": [
    "### Total Artículos publicados"
   ]
  },
  {
   "cell_type": "code",
   "execution_count": 40,
   "metadata": {},
   "outputs": [
    {
     "data": {
      "text/plain": [
       "113948"
      ]
     },
     "execution_count": 40,
     "metadata": {},
     "output_type": "execute_result"
    }
   ],
   "source": [
    "df_temp=df[['Author(s)_ID_Rev', 'Title']].groupby(by='Author(s)_ID_Rev').count()\n",
    "#Convierte el indice en otro campo\n",
    "df_temp.reset_index(level=0, inplace=True)\n",
    "len(df_temp)\n",
    "#df_temp.head(5)"
   ]
  },
  {
   "cell_type": "code",
   "execution_count": 45,
   "metadata": {},
   "outputs": [
    {
     "data": {
      "text/plain": [
       "177350"
      ]
     },
     "execution_count": 45,
     "metadata": {},
     "output_type": "execute_result"
    }
   ],
   "source": [
    "df['Title'].isna().count()"
   ]
  },
  {
   "cell_type": "code",
   "execution_count": 41,
   "metadata": {},
   "outputs": [
    {
     "data": {
      "text/html": [
       "<div>\n",
       "<style scoped>\n",
       "    .dataframe tbody tr th:only-of-type {\n",
       "        vertical-align: middle;\n",
       "    }\n",
       "\n",
       "    .dataframe tbody tr th {\n",
       "        vertical-align: top;\n",
       "    }\n",
       "\n",
       "    .dataframe thead th {\n",
       "        text-align: right;\n",
       "    }\n",
       "</style>\n",
       "<table border=\"1\" class=\"dataframe\">\n",
       "  <thead>\n",
       "    <tr style=\"text-align: right;\">\n",
       "      <th></th>\n",
       "      <th>Author(s)_ID_Rev</th>\n",
       "      <th>Title</th>\n",
       "    </tr>\n",
       "  </thead>\n",
       "  <tbody>\n",
       "    <tr>\n",
       "      <th>0</th>\n",
       "      <td>1</td>\n",
       "      <td>2</td>\n",
       "    </tr>\n",
       "    <tr>\n",
       "      <th>1</th>\n",
       "      <td>10038943700</td>\n",
       "      <td>1</td>\n",
       "    </tr>\n",
       "    <tr>\n",
       "      <th>2</th>\n",
       "      <td>10039167100</td>\n",
       "      <td>1</td>\n",
       "    </tr>\n",
       "    <tr>\n",
       "      <th>3</th>\n",
       "      <td>10039295200</td>\n",
       "      <td>3</td>\n",
       "    </tr>\n",
       "    <tr>\n",
       "      <th>4</th>\n",
       "      <td>10039317900</td>\n",
       "      <td>1</td>\n",
       "    </tr>\n",
       "  </tbody>\n",
       "</table>\n",
       "</div>"
      ],
      "text/plain": [
       "  Author(s)_ID_Rev  Title\n",
       "0                1      2\n",
       "1      10038943700      1\n",
       "2      10039167100      1\n",
       "3      10039295200      3\n",
       "4      10039317900      1"
      ]
     },
     "execution_count": 41,
     "metadata": {},
     "output_type": "execute_result"
    }
   ],
   "source": [
    "df_temp.head(5)"
   ]
  },
  {
   "cell_type": "code",
   "execution_count": 53,
   "metadata": {},
   "outputs": [
    {
     "data": {
      "text/plain": [
       "113948"
      ]
     },
     "execution_count": 53,
     "metadata": {},
     "output_type": "execute_result"
    }
   ],
   "source": [
    "df_temp = df.pivot_table(index='Author(s)_ID_Rev', values='Title', aggfunc='count')\n",
    "#Convierte el indice en otro campo\n",
    "df_temp.reset_index(level=0, inplace=True)\n",
    "df_temp =df_temp.sort_values(by='Title',ascending=False)\n",
    "\n",
    "len(df_temp)"
   ]
  },
  {
   "cell_type": "code",
   "execution_count": 55,
   "metadata": {},
   "outputs": [
    {
     "data": {
      "text/html": [
       "<div>\n",
       "<style scoped>\n",
       "    .dataframe tbody tr th:only-of-type {\n",
       "        vertical-align: middle;\n",
       "    }\n",
       "\n",
       "    .dataframe tbody tr th {\n",
       "        vertical-align: top;\n",
       "    }\n",
       "\n",
       "    .dataframe thead th {\n",
       "        text-align: right;\n",
       "    }\n",
       "</style>\n",
       "<table border=\"1\" class=\"dataframe\">\n",
       "  <thead>\n",
       "    <tr style=\"text-align: right;\">\n",
       "      <th></th>\n",
       "      <th>Author(s)_ID_Rev</th>\n",
       "      <th>Title</th>\n",
       "    </tr>\n",
       "  </thead>\n",
       "  <tbody>\n",
       "    <tr>\n",
       "      <th>113947</th>\n",
       "      <td>[No author id available</td>\n",
       "      <td>390</td>\n",
       "    </tr>\n",
       "    <tr>\n",
       "      <th>101823</th>\n",
       "      <td>7005911314</td>\n",
       "      <td>88</td>\n",
       "    </tr>\n",
       "    <tr>\n",
       "      <th>105632</th>\n",
       "      <td>7102979264</td>\n",
       "      <td>83</td>\n",
       "    </tr>\n",
       "    <tr>\n",
       "      <th>103635</th>\n",
       "      <td>7007046984</td>\n",
       "      <td>69</td>\n",
       "    </tr>\n",
       "    <tr>\n",
       "      <th>38757</th>\n",
       "      <td>55663326200</td>\n",
       "      <td>59</td>\n",
       "    </tr>\n",
       "    <tr>\n",
       "      <th>3499</th>\n",
       "      <td>15021490600</td>\n",
       "      <td>58</td>\n",
       "    </tr>\n",
       "    <tr>\n",
       "      <th>100976</th>\n",
       "      <td>7005373508</td>\n",
       "      <td>57</td>\n",
       "    </tr>\n",
       "    <tr>\n",
       "      <th>17969</th>\n",
       "      <td>35312606600</td>\n",
       "      <td>57</td>\n",
       "    </tr>\n",
       "    <tr>\n",
       "      <th>101764</th>\n",
       "      <td>7005870447</td>\n",
       "      <td>55</td>\n",
       "    </tr>\n",
       "    <tr>\n",
       "      <th>102202</th>\n",
       "      <td>7006115745</td>\n",
       "      <td>54</td>\n",
       "    </tr>\n",
       "  </tbody>\n",
       "</table>\n",
       "</div>"
      ],
      "text/plain": [
       "               Author(s)_ID_Rev  Title\n",
       "113947  [No author id available    390\n",
       "101823               7005911314     88\n",
       "105632               7102979264     83\n",
       "103635               7007046984     69\n",
       "38757               55663326200     59\n",
       "3499                15021490600     58\n",
       "100976               7005373508     57\n",
       "17969               35312606600     57\n",
       "101764               7005870447     55\n",
       "102202               7006115745     54"
      ]
     },
     "execution_count": 55,
     "metadata": {},
     "output_type": "execute_result"
    }
   ],
   "source": [
    "df_temp.head(n=10)"
   ]
  },
  {
   "cell_type": "code",
   "execution_count": null,
   "metadata": {},
   "outputs": [],
   "source": []
  }
 ],
 "metadata": {
  "kernelspec": {
   "display_name": "Python 3",
   "language": "python",
   "name": "python3"
  },
  "language_info": {
   "codemirror_mode": {
    "name": "ipython",
    "version": 3
   },
   "file_extension": ".py",
   "mimetype": "text/x-python",
   "name": "python",
   "nbconvert_exporter": "python",
   "pygments_lexer": "ipython3",
   "version": "3.7.1"
  }
 },
 "nbformat": 4,
 "nbformat_minor": 2
}
