{
 "cells": [
  {
   "cell_type": "code",
   "execution_count": 3,
   "metadata": {},
   "outputs": [],
   "source": [
    "import pandas as pd\n",
    "import numpy  as np\n",
    "import matplotlib.pyplot as plt\n",
    "\n",
    "from sklearn.model_selection import cross_val_score\n",
    "from sklearn.datasets import make_blobs\n",
    "from sklearn.ensemble import RandomForestClassifier\n",
    "from sklearn.ensemble import ExtraTreesClassifier\n",
    "from sklearn.tree import DecisionTreeClassifier\n"
   ]
  },
  {
   "cell_type": "code",
   "execution_count": 4,
   "metadata": {
    "scrolled": true
   },
   "outputs": [
    {
     "name": "stderr",
     "output_type": "stream",
     "text": [
      "C:\\Users\\wilme\\Anaconda3\\lib\\site-packages\\IPython\\core\\interactiveshell.py:2785: DtypeWarning: Columns (1) have mixed types. Specify dtype option on import or set low_memory=False.\n",
      "  interactivity=interactivity, compiler=compiler, result=result)\n"
     ]
    }
   ],
   "source": [
    "df = pd.read_csv(r\"C:\\Users\\wilme\\OneDrive\\Documentos\\GitHub\\Repositorio-secreto-Scielo\\Data\\scopus_final.csv\")\n"
   ]
  },
  {
   "cell_type": "code",
   "execution_count": null,
   "metadata": {},
   "outputs": [],
   "source": [
    "#df.sort_values(by=\"Cited_by\",ascending=False)   cuando necesite ordenar"
   ]
  },
  {
   "cell_type": "code",
   "execution_count": 5,
   "metadata": {},
   "outputs": [],
   "source": [
    "df2 = df\n",
    "    \n",
    "   "
   ]
  },
  {
   "cell_type": "code",
   "execution_count": 6,
   "metadata": {},
   "outputs": [
    {
     "data": {
      "text/html": [
       "<div>\n",
       "<style scoped>\n",
       "    .dataframe tbody tr th:only-of-type {\n",
       "        vertical-align: middle;\n",
       "    }\n",
       "\n",
       "    .dataframe tbody tr th {\n",
       "        vertical-align: top;\n",
       "    }\n",
       "\n",
       "    .dataframe thead th {\n",
       "        text-align: right;\n",
       "    }\n",
       "</style>\n",
       "<table border=\"1\" class=\"dataframe\">\n",
       "  <thead>\n",
       "    <tr style=\"text-align: right;\">\n",
       "      <th></th>\n",
       "      <th>Unnamed: 0</th>\n",
       "      <th>Author(s)_ID_Rev</th>\n",
       "      <th>Title</th>\n",
       "      <th>Year</th>\n",
       "      <th>Source_title</th>\n",
       "      <th>Document_Type</th>\n",
       "      <th>Abstract</th>\n",
       "      <th>Authors_Rev</th>\n",
       "      <th>Total_Citation</th>\n",
       "      <th>Total_Title</th>\n",
       "      <th>...</th>\n",
       "      <th>C_11</th>\n",
       "      <th>C_13</th>\n",
       "      <th>C_12</th>\n",
       "      <th>C_14</th>\n",
       "      <th>C_15</th>\n",
       "      <th>C_16</th>\n",
       "      <th>C_17</th>\n",
       "      <th>C_18</th>\n",
       "      <th>C_19</th>\n",
       "      <th>nivel_de_citacion</th>\n",
       "    </tr>\n",
       "  </thead>\n",
       "  <tbody>\n",
       "    <tr>\n",
       "      <th>0</th>\n",
       "      <td>0</td>\n",
       "      <td>57209325639</td>\n",
       "      <td>The impact of long-term consumption of diets e...</td>\n",
       "      <td>2019</td>\n",
       "      <td>Anais da Academia Brasileira de Ciencias</td>\n",
       "      <td>Article</td>\n",
       "      <td>To date, most of studies have only focused on ...</td>\n",
       "      <td>Hassanzadeh-Taheri M.</td>\n",
       "      <td>0</td>\n",
       "      <td>1</td>\n",
       "      <td>...</td>\n",
       "      <td>1</td>\n",
       "      <td>0</td>\n",
       "      <td>8</td>\n",
       "      <td>6</td>\n",
       "      <td>9</td>\n",
       "      <td>6</td>\n",
       "      <td>0</td>\n",
       "      <td>0</td>\n",
       "      <td>8</td>\n",
       "      <td>0</td>\n",
       "    </tr>\n",
       "    <tr>\n",
       "      <th>1</th>\n",
       "      <td>1</td>\n",
       "      <td>57209308260</td>\n",
       "      <td>The impact of long-term consumption of diets e...</td>\n",
       "      <td>2019</td>\n",
       "      <td>Anais da Academia Brasileira de Ciencias</td>\n",
       "      <td>Article</td>\n",
       "      <td>To date, most of studies have only focused on ...</td>\n",
       "      <td>Hassanzadeh-Taheri M.</td>\n",
       "      <td>0</td>\n",
       "      <td>1</td>\n",
       "      <td>...</td>\n",
       "      <td>1</td>\n",
       "      <td>0</td>\n",
       "      <td>8</td>\n",
       "      <td>6</td>\n",
       "      <td>9</td>\n",
       "      <td>6</td>\n",
       "      <td>0</td>\n",
       "      <td>0</td>\n",
       "      <td>8</td>\n",
       "      <td>0</td>\n",
       "    </tr>\n",
       "    <tr>\n",
       "      <th>2</th>\n",
       "      <td>2</td>\n",
       "      <td>57201482981</td>\n",
       "      <td>The impact of long-term consumption of diets e...</td>\n",
       "      <td>2019</td>\n",
       "      <td>Anais da Academia Brasileira de Ciencias</td>\n",
       "      <td>Article</td>\n",
       "      <td>To date, most of studies have only focused on ...</td>\n",
       "      <td>Jahani F.</td>\n",
       "      <td>0</td>\n",
       "      <td>1</td>\n",
       "      <td>...</td>\n",
       "      <td>1</td>\n",
       "      <td>0</td>\n",
       "      <td>8</td>\n",
       "      <td>6</td>\n",
       "      <td>9</td>\n",
       "      <td>6</td>\n",
       "      <td>0</td>\n",
       "      <td>0</td>\n",
       "      <td>8</td>\n",
       "      <td>0</td>\n",
       "    </tr>\n",
       "    <tr>\n",
       "      <th>3</th>\n",
       "      <td>3</td>\n",
       "      <td>57209301343</td>\n",
       "      <td>The impact of long-term consumption of diets e...</td>\n",
       "      <td>2019</td>\n",
       "      <td>Anais da Academia Brasileira de Ciencias</td>\n",
       "      <td>Article</td>\n",
       "      <td>To date, most of studies have only focused on ...</td>\n",
       "      <td>Erfanian Z.</td>\n",
       "      <td>0</td>\n",
       "      <td>1</td>\n",
       "      <td>...</td>\n",
       "      <td>1</td>\n",
       "      <td>0</td>\n",
       "      <td>8</td>\n",
       "      <td>6</td>\n",
       "      <td>9</td>\n",
       "      <td>6</td>\n",
       "      <td>0</td>\n",
       "      <td>0</td>\n",
       "      <td>8</td>\n",
       "      <td>0</td>\n",
       "    </tr>\n",
       "    <tr>\n",
       "      <th>4</th>\n",
       "      <td>4</td>\n",
       "      <td>26632069100</td>\n",
       "      <td>The impact of long-term consumption of diets e...</td>\n",
       "      <td>2019</td>\n",
       "      <td>Anais da Academia Brasileira de Ciencias</td>\n",
       "      <td>Article</td>\n",
       "      <td>To date, most of studies have only focused on ...</td>\n",
       "      <td>Moodi H.</td>\n",
       "      <td>0</td>\n",
       "      <td>1</td>\n",
       "      <td>...</td>\n",
       "      <td>1</td>\n",
       "      <td>0</td>\n",
       "      <td>8</td>\n",
       "      <td>6</td>\n",
       "      <td>9</td>\n",
       "      <td>6</td>\n",
       "      <td>0</td>\n",
       "      <td>0</td>\n",
       "      <td>8</td>\n",
       "      <td>0</td>\n",
       "    </tr>\n",
       "  </tbody>\n",
       "</table>\n",
       "<p>5 rows × 50 columns</p>\n",
       "</div>"
      ],
      "text/plain": [
       "   Unnamed: 0 Author(s)_ID_Rev  \\\n",
       "0           0      57209325639   \n",
       "1           1      57209308260   \n",
       "2           2      57201482981   \n",
       "3           3      57209301343   \n",
       "4           4      26632069100   \n",
       "\n",
       "                                               Title  Year  \\\n",
       "0  The impact of long-term consumption of diets e...  2019   \n",
       "1  The impact of long-term consumption of diets e...  2019   \n",
       "2  The impact of long-term consumption of diets e...  2019   \n",
       "3  The impact of long-term consumption of diets e...  2019   \n",
       "4  The impact of long-term consumption of diets e...  2019   \n",
       "\n",
       "                               Source_title Document_Type  \\\n",
       "0  Anais da Academia Brasileira de Ciencias       Article   \n",
       "1  Anais da Academia Brasileira de Ciencias       Article   \n",
       "2  Anais da Academia Brasileira de Ciencias       Article   \n",
       "3  Anais da Academia Brasileira de Ciencias       Article   \n",
       "4  Anais da Academia Brasileira de Ciencias       Article   \n",
       "\n",
       "                                            Abstract             Authors_Rev  \\\n",
       "0  To date, most of studies have only focused on ...   Hassanzadeh-Taheri M.   \n",
       "1  To date, most of studies have only focused on ...   Hassanzadeh-Taheri M.   \n",
       "2  To date, most of studies have only focused on ...               Jahani F.   \n",
       "3  To date, most of studies have only focused on ...             Erfanian Z.   \n",
       "4  To date, most of studies have only focused on ...                Moodi H.   \n",
       "\n",
       "   Total_Citation  Total_Title        ...          C_11  C_13  C_12  C_14  \\\n",
       "0               0            1        ...             1     0     8     6   \n",
       "1               0            1        ...             1     0     8     6   \n",
       "2               0            1        ...             1     0     8     6   \n",
       "3               0            1        ...             1     0     8     6   \n",
       "4               0            1        ...             1     0     8     6   \n",
       "\n",
       "   C_15  C_16  C_17  C_18  C_19  nivel_de_citacion  \n",
       "0     9     6     0     0     8                  0  \n",
       "1     9     6     0     0     8                  0  \n",
       "2     9     6     0     0     8                  0  \n",
       "3     9     6     0     0     8                  0  \n",
       "4     9     6     0     0     8                  0  \n",
       "\n",
       "[5 rows x 50 columns]"
      ]
     },
     "execution_count": 6,
     "metadata": {},
     "output_type": "execute_result"
    }
   ],
   "source": [
    "# Se establecen las condiciones para la valoracion de los articulos mas populares y menos populares\n",
    "condiciones = [\n",
    "    (df2['Cited_by'] >= 1) ,\n",
    "    (df2['Cited_by'] < 1) \n",
    "   \n",
    "    \n",
    "]\n",
    "eleccion = ['1', '0']\n",
    "df2['nivel_de_citacion'] = np.select(condiciones, eleccion, default='error')\n",
    "df2.head()\n",
    "\n",
    "\n"
   ]
  },
  {
   "cell_type": "code",
   "execution_count": 7,
   "metadata": {
    "scrolled": true
   },
   "outputs": [
    {
     "data": {
      "text/plain": [
       "Index(['Unnamed: 0', 'Author(s)_ID_Rev', 'Title', 'Year', 'Source_title',\n",
       "       'Document_Type', 'Abstract', 'Authors_Rev', 'Total_Citation',\n",
       "       'Total_Title', 'Max_Citation', 'Total_Journal', 'Delta_publications',\n",
       "       'autor_career', 'citation_journal', 'Delta_coautores', 'Cited_by',\n",
       "       'Years', 'cant_coautores', 'journal_mean_citation', 'index',\n",
       "       'CiteScore', 'Percentile', 'Citation Count', 'Scholarly Output',\n",
       "       'Percent Cited', 'SNIP', 'SJR', 'Scopus Sub-Subject Area', 'h-index',\n",
       "       'Abstract_ing', 'Clean_Abstract', 'C_3', 'C_4', 'C_5', 'C_6', 'C_7',\n",
       "       'C_8', 'C_9', 'C_10', 'C_11', 'C_13', 'C_12', 'C_14', 'C_15', 'C_16',\n",
       "       'C_17', 'C_18', 'C_19', 'nivel_de_citacion'],\n",
       "      dtype='object')"
      ]
     },
     "execution_count": 7,
     "metadata": {},
     "output_type": "execute_result"
    }
   ],
   "source": [
    "df2.columns"
   ]
  },
  {
   "cell_type": "code",
   "execution_count": 8,
   "metadata": {},
   "outputs": [],
   "source": [
    "dataset = df2[['Year', 'Source_title',\n",
    "          'Total_Citation',\n",
    "       'Total_Title', 'Max_Citation', 'Total_Journal', 'Delta_publications',\n",
    "       'autor_career', 'citation_journal', 'Delta_coautores', \n",
    "       'Years', 'cant_coautores', 'journal_mean_citation', 'index',\n",
    "       'CiteScore', 'Percentile', 'Citation Count', 'Scholarly Output',\n",
    "       'Percent Cited', 'Scopus Sub-Subject Area', 'h-index',\n",
    "        'nivel_de_citacion']]\n",
    "\n",
    "\n",
    "\n"
   ]
  },
  {
   "cell_type": "code",
   "execution_count": 9,
   "metadata": {},
   "outputs": [],
   "source": [
    "\n",
    "# Clasificacion de los parametros\n",
    "X = dataset.iloc[:, [0,20]].values\n",
    "y = dataset.iloc[:, 21].values\n",
    "\n"
   ]
  },
  {
   "cell_type": "code",
   "execution_count": 10,
   "metadata": {},
   "outputs": [],
   "source": [
    "X = dataset.iloc[:, [0,20]].values\n",
    "y = dataset.iloc[:, 21].values"
   ]
  },
  {
   "cell_type": "code",
   "execution_count": 11,
   "metadata": {},
   "outputs": [
    {
     "data": {
      "text/plain": [
       "0.869459705167699"
      ]
     },
     "execution_count": 11,
     "metadata": {},
     "output_type": "execute_result"
    }
   ],
   "source": [
    "clf = DecisionTreeClassifier(max_depth=None, min_samples_split=2,random_state=0)\n",
    "scores = cross_val_score(clf, X, y, cv=5)\n",
    "scores.mean()"
   ]
  },
  {
   "cell_type": "code",
   "execution_count": 12,
   "metadata": {},
   "outputs": [
    {
     "data": {
      "text/plain": [
       "0.869459705167699"
      ]
     },
     "execution_count": 12,
     "metadata": {},
     "output_type": "execute_result"
    }
   ],
   "source": [
    "clf = RandomForestClassifier(n_estimators=10, max_depth=None,\n",
    "...     min_samples_split=2, random_state=0)\n",
    "scores = cross_val_score(clf, X, y, cv=5)\n",
    "scores.mean()  "
   ]
  },
  {
   "cell_type": "code",
   "execution_count": 13,
   "metadata": {},
   "outputs": [
    {
     "data": {
      "text/plain": [
       "0.8697067466116056"
      ]
     },
     "execution_count": 13,
     "metadata": {},
     "output_type": "execute_result"
    }
   ],
   "source": [
    "clf = ExtraTreesClassifier(n_estimators=10, max_depth=None,\n",
    "...     min_samples_split=2, random_state=0)\n",
    "scores = cross_val_score(clf, X, y, cv=10)\n",
    "scores.mean()"
   ]
  },
  {
   "cell_type": "code",
   "execution_count": 14,
   "metadata": {},
   "outputs": [
    {
     "data": {
      "text/plain": [
       "0.8697069494244211"
      ]
     },
     "execution_count": 14,
     "metadata": {},
     "output_type": "execute_result"
    }
   ],
   "source": [
    "from sklearn.model_selection import cross_val_score\n",
    "from sklearn.ensemble import AdaBoostClassifier\n",
    "clf = AdaBoostClassifier(n_estimators=100)\n",
    "scores = cross_val_score(clf,X,y, cv=5)\n",
    "scores.mean()   "
   ]
  },
  {
   "cell_type": "code",
   "execution_count": null,
   "metadata": {},
   "outputs": [],
   "source": []
  }
 ],
 "metadata": {
  "kernelspec": {
   "display_name": "Python 3",
   "language": "python",
   "name": "python3"
  },
  "language_info": {
   "codemirror_mode": {
    "name": "ipython",
    "version": 3
   },
   "file_extension": ".py",
   "mimetype": "text/x-python",
   "name": "python",
   "nbconvert_exporter": "python",
   "pygments_lexer": "ipython3",
   "version": "3.6.5"
  }
 },
 "nbformat": 4,
 "nbformat_minor": 2
}
