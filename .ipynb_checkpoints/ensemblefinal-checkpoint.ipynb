{
 "cells": [
  {
   "cell_type": "code",
   "execution_count": 2,
   "metadata": {},
   "outputs": [],
   "source": [
    "import pandas as pd\n",
    "import numpy  as np\n",
    "import matplotlib.pyplot as plt\n"
   ]
  },
  {
   "cell_type": "code",
   "execution_count": 4,
   "metadata": {
    "scrolled": true
   },
   "outputs": [
    {
     "name": "stderr",
     "output_type": "stream",
     "text": [
      "C:\\Users\\wilme\\Anaconda3\\lib\\site-packages\\IPython\\core\\interactiveshell.py:2785: DtypeWarning: Columns (1) have mixed types. Specify dtype option on import or set low_memory=False.\n",
      "  interactivity=interactivity, compiler=compiler, result=result)\n"
     ]
    },
    {
     "data": {
      "text/html": [
       "<div>\n",
       "<style scoped>\n",
       "    .dataframe tbody tr th:only-of-type {\n",
       "        vertical-align: middle;\n",
       "    }\n",
       "\n",
       "    .dataframe tbody tr th {\n",
       "        vertical-align: top;\n",
       "    }\n",
       "\n",
       "    .dataframe thead th {\n",
       "        text-align: right;\n",
       "    }\n",
       "</style>\n",
       "<table border=\"1\" class=\"dataframe\">\n",
       "  <thead>\n",
       "    <tr style=\"text-align: right;\">\n",
       "      <th></th>\n",
       "      <th>Unnamed: 0</th>\n",
       "      <th>Author(s)_ID_Rev</th>\n",
       "      <th>Title</th>\n",
       "      <th>Year</th>\n",
       "      <th>Source_title</th>\n",
       "      <th>Document_Type</th>\n",
       "      <th>Abstract</th>\n",
       "      <th>Authors_Rev</th>\n",
       "      <th>Total_Citation</th>\n",
       "      <th>Total_Title</th>\n",
       "      <th>...</th>\n",
       "      <th>C_10</th>\n",
       "      <th>C_11</th>\n",
       "      <th>C_13</th>\n",
       "      <th>C_12</th>\n",
       "      <th>C_14</th>\n",
       "      <th>C_15</th>\n",
       "      <th>C_16</th>\n",
       "      <th>C_17</th>\n",
       "      <th>C_18</th>\n",
       "      <th>C_19</th>\n",
       "    </tr>\n",
       "  </thead>\n",
       "  <tbody>\n",
       "    <tr>\n",
       "      <th>0</th>\n",
       "      <td>0</td>\n",
       "      <td>57209325639</td>\n",
       "      <td>The impact of long-term consumption of diets e...</td>\n",
       "      <td>2019</td>\n",
       "      <td>Anais da Academia Brasileira de Ciencias</td>\n",
       "      <td>Article</td>\n",
       "      <td>To date, most of studies have only focused on ...</td>\n",
       "      <td>Hassanzadeh-Taheri M.</td>\n",
       "      <td>0</td>\n",
       "      <td>1</td>\n",
       "      <td>...</td>\n",
       "      <td>8</td>\n",
       "      <td>1</td>\n",
       "      <td>0</td>\n",
       "      <td>8</td>\n",
       "      <td>6</td>\n",
       "      <td>9</td>\n",
       "      <td>6</td>\n",
       "      <td>0</td>\n",
       "      <td>0</td>\n",
       "      <td>8</td>\n",
       "    </tr>\n",
       "    <tr>\n",
       "      <th>1</th>\n",
       "      <td>1</td>\n",
       "      <td>57209308260</td>\n",
       "      <td>The impact of long-term consumption of diets e...</td>\n",
       "      <td>2019</td>\n",
       "      <td>Anais da Academia Brasileira de Ciencias</td>\n",
       "      <td>Article</td>\n",
       "      <td>To date, most of studies have only focused on ...</td>\n",
       "      <td>Hassanzadeh-Taheri M.</td>\n",
       "      <td>0</td>\n",
       "      <td>1</td>\n",
       "      <td>...</td>\n",
       "      <td>8</td>\n",
       "      <td>1</td>\n",
       "      <td>0</td>\n",
       "      <td>8</td>\n",
       "      <td>6</td>\n",
       "      <td>9</td>\n",
       "      <td>6</td>\n",
       "      <td>0</td>\n",
       "      <td>0</td>\n",
       "      <td>8</td>\n",
       "    </tr>\n",
       "    <tr>\n",
       "      <th>2</th>\n",
       "      <td>2</td>\n",
       "      <td>57201482981</td>\n",
       "      <td>The impact of long-term consumption of diets e...</td>\n",
       "      <td>2019</td>\n",
       "      <td>Anais da Academia Brasileira de Ciencias</td>\n",
       "      <td>Article</td>\n",
       "      <td>To date, most of studies have only focused on ...</td>\n",
       "      <td>Jahani F.</td>\n",
       "      <td>0</td>\n",
       "      <td>1</td>\n",
       "      <td>...</td>\n",
       "      <td>8</td>\n",
       "      <td>1</td>\n",
       "      <td>0</td>\n",
       "      <td>8</td>\n",
       "      <td>6</td>\n",
       "      <td>9</td>\n",
       "      <td>6</td>\n",
       "      <td>0</td>\n",
       "      <td>0</td>\n",
       "      <td>8</td>\n",
       "    </tr>\n",
       "    <tr>\n",
       "      <th>3</th>\n",
       "      <td>3</td>\n",
       "      <td>57209301343</td>\n",
       "      <td>The impact of long-term consumption of diets e...</td>\n",
       "      <td>2019</td>\n",
       "      <td>Anais da Academia Brasileira de Ciencias</td>\n",
       "      <td>Article</td>\n",
       "      <td>To date, most of studies have only focused on ...</td>\n",
       "      <td>Erfanian Z.</td>\n",
       "      <td>0</td>\n",
       "      <td>1</td>\n",
       "      <td>...</td>\n",
       "      <td>8</td>\n",
       "      <td>1</td>\n",
       "      <td>0</td>\n",
       "      <td>8</td>\n",
       "      <td>6</td>\n",
       "      <td>9</td>\n",
       "      <td>6</td>\n",
       "      <td>0</td>\n",
       "      <td>0</td>\n",
       "      <td>8</td>\n",
       "    </tr>\n",
       "    <tr>\n",
       "      <th>4</th>\n",
       "      <td>4</td>\n",
       "      <td>26632069100</td>\n",
       "      <td>The impact of long-term consumption of diets e...</td>\n",
       "      <td>2019</td>\n",
       "      <td>Anais da Academia Brasileira de Ciencias</td>\n",
       "      <td>Article</td>\n",
       "      <td>To date, most of studies have only focused on ...</td>\n",
       "      <td>Moodi H.</td>\n",
       "      <td>0</td>\n",
       "      <td>1</td>\n",
       "      <td>...</td>\n",
       "      <td>8</td>\n",
       "      <td>1</td>\n",
       "      <td>0</td>\n",
       "      <td>8</td>\n",
       "      <td>6</td>\n",
       "      <td>9</td>\n",
       "      <td>6</td>\n",
       "      <td>0</td>\n",
       "      <td>0</td>\n",
       "      <td>8</td>\n",
       "    </tr>\n",
       "  </tbody>\n",
       "</table>\n",
       "<p>5 rows × 49 columns</p>\n",
       "</div>"
      ],
      "text/plain": [
       "   Unnamed: 0 Author(s)_ID_Rev  \\\n",
       "0           0      57209325639   \n",
       "1           1      57209308260   \n",
       "2           2      57201482981   \n",
       "3           3      57209301343   \n",
       "4           4      26632069100   \n",
       "\n",
       "                                               Title  Year  \\\n",
       "0  The impact of long-term consumption of diets e...  2019   \n",
       "1  The impact of long-term consumption of diets e...  2019   \n",
       "2  The impact of long-term consumption of diets e...  2019   \n",
       "3  The impact of long-term consumption of diets e...  2019   \n",
       "4  The impact of long-term consumption of diets e...  2019   \n",
       "\n",
       "                               Source_title Document_Type  \\\n",
       "0  Anais da Academia Brasileira de Ciencias       Article   \n",
       "1  Anais da Academia Brasileira de Ciencias       Article   \n",
       "2  Anais da Academia Brasileira de Ciencias       Article   \n",
       "3  Anais da Academia Brasileira de Ciencias       Article   \n",
       "4  Anais da Academia Brasileira de Ciencias       Article   \n",
       "\n",
       "                                            Abstract             Authors_Rev  \\\n",
       "0  To date, most of studies have only focused on ...   Hassanzadeh-Taheri M.   \n",
       "1  To date, most of studies have only focused on ...   Hassanzadeh-Taheri M.   \n",
       "2  To date, most of studies have only focused on ...               Jahani F.   \n",
       "3  To date, most of studies have only focused on ...             Erfanian Z.   \n",
       "4  To date, most of studies have only focused on ...                Moodi H.   \n",
       "\n",
       "   Total_Citation  Total_Title  ...   C_10  C_11  C_13  C_12  C_14  C_15  \\\n",
       "0               0            1  ...      8     1     0     8     6     9   \n",
       "1               0            1  ...      8     1     0     8     6     9   \n",
       "2               0            1  ...      8     1     0     8     6     9   \n",
       "3               0            1  ...      8     1     0     8     6     9   \n",
       "4               0            1  ...      8     1     0     8     6     9   \n",
       "\n",
       "   C_16  C_17  C_18  C_19  \n",
       "0     6     0     0     8  \n",
       "1     6     0     0     8  \n",
       "2     6     0     0     8  \n",
       "3     6     0     0     8  \n",
       "4     6     0     0     8  \n",
       "\n",
       "[5 rows x 49 columns]"
      ]
     },
     "execution_count": 4,
     "metadata": {},
     "output_type": "execute_result"
    }
   ],
   "source": [
    "df = pd.read_csv(r\"C:\\Users\\wilme\\OneDrive\\Documentos\\GitHub\\Repositorio-secreto-Scielo\\Data\\scopus_final.csv\")\n",
    "df.head(5)"
   ]
  },
  {
   "cell_type": "code",
   "execution_count": null,
   "metadata": {},
   "outputs": [],
   "source": [
    "#df.sort_values(by=\"Cited_by\",ascending=False)   cuando necesite ordenar"
   ]
  },
  {
   "cell_type": "code",
   "execution_count": 5,
   "metadata": {},
   "outputs": [],
   "source": [
    "df2 = df\n",
    "    \n",
    "   "
   ]
  },
  {
   "cell_type": "code",
   "execution_count": 57,
   "metadata": {},
   "outputs": [
    {
     "data": {
      "text/html": [
       "<div>\n",
       "<style scoped>\n",
       "    .dataframe tbody tr th:only-of-type {\n",
       "        vertical-align: middle;\n",
       "    }\n",
       "\n",
       "    .dataframe tbody tr th {\n",
       "        vertical-align: top;\n",
       "    }\n",
       "\n",
       "    .dataframe thead th {\n",
       "        text-align: right;\n",
       "    }\n",
       "</style>\n",
       "<table border=\"1\" class=\"dataframe\">\n",
       "  <thead>\n",
       "    <tr style=\"text-align: right;\">\n",
       "      <th></th>\n",
       "      <th>Unnamed: 0</th>\n",
       "      <th>Author(s)_ID_Rev</th>\n",
       "      <th>Title</th>\n",
       "      <th>Year</th>\n",
       "      <th>Source_title</th>\n",
       "      <th>Document_Type</th>\n",
       "      <th>Abstract</th>\n",
       "      <th>Authors_Rev</th>\n",
       "      <th>Total_Citation</th>\n",
       "      <th>Total_Title</th>\n",
       "      <th>...</th>\n",
       "      <th>C_11</th>\n",
       "      <th>C_13</th>\n",
       "      <th>C_12</th>\n",
       "      <th>C_14</th>\n",
       "      <th>C_15</th>\n",
       "      <th>C_16</th>\n",
       "      <th>C_17</th>\n",
       "      <th>C_18</th>\n",
       "      <th>C_19</th>\n",
       "      <th>nivel_de_citacion</th>\n",
       "    </tr>\n",
       "  </thead>\n",
       "  <tbody>\n",
       "    <tr>\n",
       "      <th>0</th>\n",
       "      <td>0</td>\n",
       "      <td>57209325639</td>\n",
       "      <td>The impact of long-term consumption of diets e...</td>\n",
       "      <td>2019</td>\n",
       "      <td>Anais da Academia Brasileira de Ciencias</td>\n",
       "      <td>Article</td>\n",
       "      <td>To date, most of studies have only focused on ...</td>\n",
       "      <td>Hassanzadeh-Taheri M.</td>\n",
       "      <td>0</td>\n",
       "      <td>1</td>\n",
       "      <td>...</td>\n",
       "      <td>1</td>\n",
       "      <td>0</td>\n",
       "      <td>8</td>\n",
       "      <td>6</td>\n",
       "      <td>9</td>\n",
       "      <td>6</td>\n",
       "      <td>0</td>\n",
       "      <td>0</td>\n",
       "      <td>8</td>\n",
       "      <td>4</td>\n",
       "    </tr>\n",
       "    <tr>\n",
       "      <th>1</th>\n",
       "      <td>1</td>\n",
       "      <td>57209308260</td>\n",
       "      <td>The impact of long-term consumption of diets e...</td>\n",
       "      <td>2019</td>\n",
       "      <td>Anais da Academia Brasileira de Ciencias</td>\n",
       "      <td>Article</td>\n",
       "      <td>To date, most of studies have only focused on ...</td>\n",
       "      <td>Hassanzadeh-Taheri M.</td>\n",
       "      <td>0</td>\n",
       "      <td>1</td>\n",
       "      <td>...</td>\n",
       "      <td>1</td>\n",
       "      <td>0</td>\n",
       "      <td>8</td>\n",
       "      <td>6</td>\n",
       "      <td>9</td>\n",
       "      <td>6</td>\n",
       "      <td>0</td>\n",
       "      <td>0</td>\n",
       "      <td>8</td>\n",
       "      <td>4</td>\n",
       "    </tr>\n",
       "    <tr>\n",
       "      <th>2</th>\n",
       "      <td>2</td>\n",
       "      <td>57201482981</td>\n",
       "      <td>The impact of long-term consumption of diets e...</td>\n",
       "      <td>2019</td>\n",
       "      <td>Anais da Academia Brasileira de Ciencias</td>\n",
       "      <td>Article</td>\n",
       "      <td>To date, most of studies have only focused on ...</td>\n",
       "      <td>Jahani F.</td>\n",
       "      <td>0</td>\n",
       "      <td>1</td>\n",
       "      <td>...</td>\n",
       "      <td>1</td>\n",
       "      <td>0</td>\n",
       "      <td>8</td>\n",
       "      <td>6</td>\n",
       "      <td>9</td>\n",
       "      <td>6</td>\n",
       "      <td>0</td>\n",
       "      <td>0</td>\n",
       "      <td>8</td>\n",
       "      <td>4</td>\n",
       "    </tr>\n",
       "    <tr>\n",
       "      <th>3</th>\n",
       "      <td>3</td>\n",
       "      <td>57209301343</td>\n",
       "      <td>The impact of long-term consumption of diets e...</td>\n",
       "      <td>2019</td>\n",
       "      <td>Anais da Academia Brasileira de Ciencias</td>\n",
       "      <td>Article</td>\n",
       "      <td>To date, most of studies have only focused on ...</td>\n",
       "      <td>Erfanian Z.</td>\n",
       "      <td>0</td>\n",
       "      <td>1</td>\n",
       "      <td>...</td>\n",
       "      <td>1</td>\n",
       "      <td>0</td>\n",
       "      <td>8</td>\n",
       "      <td>6</td>\n",
       "      <td>9</td>\n",
       "      <td>6</td>\n",
       "      <td>0</td>\n",
       "      <td>0</td>\n",
       "      <td>8</td>\n",
       "      <td>4</td>\n",
       "    </tr>\n",
       "    <tr>\n",
       "      <th>4</th>\n",
       "      <td>4</td>\n",
       "      <td>26632069100</td>\n",
       "      <td>The impact of long-term consumption of diets e...</td>\n",
       "      <td>2019</td>\n",
       "      <td>Anais da Academia Brasileira de Ciencias</td>\n",
       "      <td>Article</td>\n",
       "      <td>To date, most of studies have only focused on ...</td>\n",
       "      <td>Moodi H.</td>\n",
       "      <td>0</td>\n",
       "      <td>1</td>\n",
       "      <td>...</td>\n",
       "      <td>1</td>\n",
       "      <td>0</td>\n",
       "      <td>8</td>\n",
       "      <td>6</td>\n",
       "      <td>9</td>\n",
       "      <td>6</td>\n",
       "      <td>0</td>\n",
       "      <td>0</td>\n",
       "      <td>8</td>\n",
       "      <td>4</td>\n",
       "    </tr>\n",
       "  </tbody>\n",
       "</table>\n",
       "<p>5 rows × 50 columns</p>\n",
       "</div>"
      ],
      "text/plain": [
       "   Unnamed: 0 Author(s)_ID_Rev  \\\n",
       "0           0      57209325639   \n",
       "1           1      57209308260   \n",
       "2           2      57201482981   \n",
       "3           3      57209301343   \n",
       "4           4      26632069100   \n",
       "\n",
       "                                               Title  Year  \\\n",
       "0  The impact of long-term consumption of diets e...  2019   \n",
       "1  The impact of long-term consumption of diets e...  2019   \n",
       "2  The impact of long-term consumption of diets e...  2019   \n",
       "3  The impact of long-term consumption of diets e...  2019   \n",
       "4  The impact of long-term consumption of diets e...  2019   \n",
       "\n",
       "                               Source_title Document_Type  \\\n",
       "0  Anais da Academia Brasileira de Ciencias       Article   \n",
       "1  Anais da Academia Brasileira de Ciencias       Article   \n",
       "2  Anais da Academia Brasileira de Ciencias       Article   \n",
       "3  Anais da Academia Brasileira de Ciencias       Article   \n",
       "4  Anais da Academia Brasileira de Ciencias       Article   \n",
       "\n",
       "                                            Abstract             Authors_Rev  \\\n",
       "0  To date, most of studies have only focused on ...   Hassanzadeh-Taheri M.   \n",
       "1  To date, most of studies have only focused on ...   Hassanzadeh-Taheri M.   \n",
       "2  To date, most of studies have only focused on ...               Jahani F.   \n",
       "3  To date, most of studies have only focused on ...             Erfanian Z.   \n",
       "4  To date, most of studies have only focused on ...                Moodi H.   \n",
       "\n",
       "   Total_Citation  Total_Title        ...          C_11  C_13  C_12  C_14  \\\n",
       "0               0            1        ...             1     0     8     6   \n",
       "1               0            1        ...             1     0     8     6   \n",
       "2               0            1        ...             1     0     8     6   \n",
       "3               0            1        ...             1     0     8     6   \n",
       "4               0            1        ...             1     0     8     6   \n",
       "\n",
       "   C_15  C_16  C_17  C_18  C_19  nivel_de_citacion  \n",
       "0     9     6     0     0     8                  4  \n",
       "1     9     6     0     0     8                  4  \n",
       "2     9     6     0     0     8                  4  \n",
       "3     9     6     0     0     8                  4  \n",
       "4     9     6     0     0     8                  4  \n",
       "\n",
       "[5 rows x 50 columns]"
      ]
     },
     "execution_count": 57,
     "metadata": {},
     "output_type": "execute_result"
    }
   ],
   "source": [
    "# Se establecen las condiciones para la valoracion de los articulos mas populares y menos populares\n",
    "condiciones = [\n",
    "    (df2['Cited_by'] >= 5) ,\n",
    "    (df2['Cited_by'] < 5) & (df2['Cited_by'] >= 2),\n",
    "    (df2['Cited_by'] < 2) & (df2['Cited_by'] >= 1),\n",
    "    (df2['Cited_by'] < 1) & (df2['Cited_by'] >=0)\n",
    "  \n",
    "    \n",
    "]\n",
    "eleccion = ['1', '2', '3','4']\n",
    "df2['nivel_de_citacion'] = np.select(condiciones, eleccion, default='error')\n",
    "df2.head()\n"
   ]
  },
  {
   "cell_type": "code",
   "execution_count": 58,
   "metadata": {},
   "outputs": [
    {
     "data": {
      "text/plain": [
       "4    23862\n",
       "2    10459\n",
       "3     9080\n",
       "1     5128\n",
       "Name: nivel_de_citacion, dtype: int64"
      ]
     },
     "execution_count": 58,
     "metadata": {},
     "output_type": "execute_result"
    }
   ],
   "source": [
    "# Revisar cuantos articulos tiene el nivel de popularidad\n",
    "\n",
    "df2['nivel_de_citacion'].value_counts()"
   ]
  },
  {
   "cell_type": "code",
   "execution_count": 59,
   "metadata": {},
   "outputs": [
    {
     "data": {
      "text/plain": [
       "0.25    0.0\n",
       "0.50    1.0\n",
       "0.75    2.0\n",
       "0.90    5.0\n",
       "Name: Cited_by, dtype: float64"
      ]
     },
     "execution_count": 59,
     "metadata": {},
     "output_type": "execute_result"
    }
   ],
   "source": [
    "df2['Cited_by'].quantile([0.25, 0.5,  0.75,0.9])"
   ]
  },
  {
   "cell_type": "code",
   "execution_count": 60,
   "metadata": {},
   "outputs": [
    {
     "data": {
      "text/plain": [
       "221"
      ]
     },
     "execution_count": 60,
     "metadata": {},
     "output_type": "execute_result"
    }
   ],
   "source": [
    "df2['Cited_by'].max()"
   ]
  },
  {
   "cell_type": "code",
   "execution_count": 61,
   "metadata": {},
   "outputs": [
    {
     "data": {
      "text/plain": [
       "Index(['Unnamed: 0', 'Author(s)_ID_Rev', 'Title', 'Year', 'Source_title',\n",
       "       'Document_Type', 'Abstract', 'Authors_Rev', 'Total_Citation',\n",
       "       'Total_Title', 'Max_Citation', 'Total_Journal', 'Delta_publications',\n",
       "       'autor_career', 'citation_journal', 'Delta_coautores', 'Cited_by',\n",
       "       'Years', 'cant_coautores', 'journal_mean_citation', 'index',\n",
       "       'CiteScore', 'Percentile', 'Citation Count', 'Scholarly Output',\n",
       "       'Percent Cited', 'SNIP', 'SJR', 'Scopus Sub-Subject Area', 'h-index',\n",
       "       'Abstract_ing', 'Clean_Abstract', 'C_3', 'C_4', 'C_5', 'C_6', 'C_7',\n",
       "       'C_8', 'C_9', 'C_10', 'C_11', 'C_13', 'C_12', 'C_14', 'C_15', 'C_16',\n",
       "       'C_17', 'C_18', 'C_19', 'nivel_de_citacion'],\n",
       "      dtype='object')"
      ]
     },
     "execution_count": 61,
     "metadata": {},
     "output_type": "execute_result"
    }
   ],
   "source": [
    "df2.columns"
   ]
  },
  {
   "cell_type": "code",
   "execution_count": 62,
   "metadata": {},
   "outputs": [],
   "source": [
    "from sklearn.preprocessing import LabelEncoder\n",
    "enc = LabelEncoder()\n",
    "df2[\"Scopus Sub-Subject Area\"] = enc.fit_transform(df[\"Scopus Sub-Subject Area\"])"
   ]
  },
  {
   "cell_type": "code",
   "execution_count": 67,
   "metadata": {},
   "outputs": [
    {
     "data": {
      "text/html": [
       "<div>\n",
       "<style scoped>\n",
       "    .dataframe tbody tr th:only-of-type {\n",
       "        vertical-align: middle;\n",
       "    }\n",
       "\n",
       "    .dataframe tbody tr th {\n",
       "        vertical-align: top;\n",
       "    }\n",
       "\n",
       "    .dataframe thead th {\n",
       "        text-align: right;\n",
       "    }\n",
       "</style>\n",
       "<table border=\"1\" class=\"dataframe\">\n",
       "  <thead>\n",
       "    <tr style=\"text-align: right;\">\n",
       "      <th></th>\n",
       "      <th>Year</th>\n",
       "      <th>Source_title</th>\n",
       "      <th>Total_Citation</th>\n",
       "      <th>Total_Title</th>\n",
       "      <th>Max_Citation</th>\n",
       "      <th>Total_Journal</th>\n",
       "      <th>Delta_publications</th>\n",
       "      <th>autor_career</th>\n",
       "      <th>citation_journal</th>\n",
       "      <th>Delta_coautores</th>\n",
       "      <th>...</th>\n",
       "      <th>journal_mean_citation</th>\n",
       "      <th>index</th>\n",
       "      <th>CiteScore</th>\n",
       "      <th>Percentile</th>\n",
       "      <th>Citation Count</th>\n",
       "      <th>Scholarly Output</th>\n",
       "      <th>Percent Cited</th>\n",
       "      <th>Scopus Sub-Subject Area</th>\n",
       "      <th>h-index</th>\n",
       "      <th>nivel_de_citacion</th>\n",
       "    </tr>\n",
       "  </thead>\n",
       "  <tbody>\n",
       "    <tr>\n",
       "      <th>0</th>\n",
       "      <td>2019</td>\n",
       "      <td>Anais da Academia Brasileira de Ciencias</td>\n",
       "      <td>0</td>\n",
       "      <td>1</td>\n",
       "      <td>0</td>\n",
       "      <td>1</td>\n",
       "      <td>1</td>\n",
       "      <td>0</td>\n",
       "      <td>9.146637</td>\n",
       "      <td>5</td>\n",
       "      <td>...</td>\n",
       "      <td>9.146637</td>\n",
       "      <td>0</td>\n",
       "      <td>1.19</td>\n",
       "      <td>79</td>\n",
       "      <td>778</td>\n",
       "      <td>654</td>\n",
       "      <td>55</td>\n",
       "      <td>20</td>\n",
       "      <td>0.0</td>\n",
       "      <td>4</td>\n",
       "    </tr>\n",
       "    <tr>\n",
       "      <th>1</th>\n",
       "      <td>2019</td>\n",
       "      <td>Anais da Academia Brasileira de Ciencias</td>\n",
       "      <td>0</td>\n",
       "      <td>1</td>\n",
       "      <td>0</td>\n",
       "      <td>1</td>\n",
       "      <td>1</td>\n",
       "      <td>0</td>\n",
       "      <td>9.146637</td>\n",
       "      <td>5</td>\n",
       "      <td>...</td>\n",
       "      <td>9.146637</td>\n",
       "      <td>0</td>\n",
       "      <td>1.19</td>\n",
       "      <td>79</td>\n",
       "      <td>778</td>\n",
       "      <td>654</td>\n",
       "      <td>55</td>\n",
       "      <td>20</td>\n",
       "      <td>0.0</td>\n",
       "      <td>4</td>\n",
       "    </tr>\n",
       "    <tr>\n",
       "      <th>2</th>\n",
       "      <td>2019</td>\n",
       "      <td>Anais da Academia Brasileira de Ciencias</td>\n",
       "      <td>0</td>\n",
       "      <td>1</td>\n",
       "      <td>0</td>\n",
       "      <td>1</td>\n",
       "      <td>1</td>\n",
       "      <td>0</td>\n",
       "      <td>9.146637</td>\n",
       "      <td>5</td>\n",
       "      <td>...</td>\n",
       "      <td>9.146637</td>\n",
       "      <td>0</td>\n",
       "      <td>1.19</td>\n",
       "      <td>79</td>\n",
       "      <td>778</td>\n",
       "      <td>654</td>\n",
       "      <td>55</td>\n",
       "      <td>20</td>\n",
       "      <td>0.0</td>\n",
       "      <td>4</td>\n",
       "    </tr>\n",
       "    <tr>\n",
       "      <th>3</th>\n",
       "      <td>2019</td>\n",
       "      <td>Anais da Academia Brasileira de Ciencias</td>\n",
       "      <td>0</td>\n",
       "      <td>1</td>\n",
       "      <td>0</td>\n",
       "      <td>1</td>\n",
       "      <td>1</td>\n",
       "      <td>0</td>\n",
       "      <td>9.146637</td>\n",
       "      <td>5</td>\n",
       "      <td>...</td>\n",
       "      <td>9.146637</td>\n",
       "      <td>0</td>\n",
       "      <td>1.19</td>\n",
       "      <td>79</td>\n",
       "      <td>778</td>\n",
       "      <td>654</td>\n",
       "      <td>55</td>\n",
       "      <td>20</td>\n",
       "      <td>0.0</td>\n",
       "      <td>4</td>\n",
       "    </tr>\n",
       "    <tr>\n",
       "      <th>4</th>\n",
       "      <td>2019</td>\n",
       "      <td>Anais da Academia Brasileira de Ciencias</td>\n",
       "      <td>0</td>\n",
       "      <td>1</td>\n",
       "      <td>0</td>\n",
       "      <td>1</td>\n",
       "      <td>1</td>\n",
       "      <td>0</td>\n",
       "      <td>9.146637</td>\n",
       "      <td>5</td>\n",
       "      <td>...</td>\n",
       "      <td>9.146637</td>\n",
       "      <td>0</td>\n",
       "      <td>1.19</td>\n",
       "      <td>79</td>\n",
       "      <td>778</td>\n",
       "      <td>654</td>\n",
       "      <td>55</td>\n",
       "      <td>20</td>\n",
       "      <td>0.0</td>\n",
       "      <td>4</td>\n",
       "    </tr>\n",
       "  </tbody>\n",
       "</table>\n",
       "<p>5 rows × 22 columns</p>\n",
       "</div>"
      ],
      "text/plain": [
       "   Year                              Source_title  Total_Citation  \\\n",
       "0  2019  Anais da Academia Brasileira de Ciencias               0   \n",
       "1  2019  Anais da Academia Brasileira de Ciencias               0   \n",
       "2  2019  Anais da Academia Brasileira de Ciencias               0   \n",
       "3  2019  Anais da Academia Brasileira de Ciencias               0   \n",
       "4  2019  Anais da Academia Brasileira de Ciencias               0   \n",
       "\n",
       "   Total_Title  Max_Citation  Total_Journal  Delta_publications  autor_career  \\\n",
       "0            1             0              1                   1             0   \n",
       "1            1             0              1                   1             0   \n",
       "2            1             0              1                   1             0   \n",
       "3            1             0              1                   1             0   \n",
       "4            1             0              1                   1             0   \n",
       "\n",
       "   citation_journal  Delta_coautores        ...          \\\n",
       "0          9.146637                5        ...           \n",
       "1          9.146637                5        ...           \n",
       "2          9.146637                5        ...           \n",
       "3          9.146637                5        ...           \n",
       "4          9.146637                5        ...           \n",
       "\n",
       "   journal_mean_citation  index  CiteScore  Percentile  Citation Count  \\\n",
       "0               9.146637      0       1.19          79             778   \n",
       "1               9.146637      0       1.19          79             778   \n",
       "2               9.146637      0       1.19          79             778   \n",
       "3               9.146637      0       1.19          79             778   \n",
       "4               9.146637      0       1.19          79             778   \n",
       "\n",
       "   Scholarly Output  Percent Cited  Scopus Sub-Subject Area  h-index  \\\n",
       "0               654             55                       20      0.0   \n",
       "1               654             55                       20      0.0   \n",
       "2               654             55                       20      0.0   \n",
       "3               654             55                       20      0.0   \n",
       "4               654             55                       20      0.0   \n",
       "\n",
       "   nivel_de_citacion  \n",
       "0                  4  \n",
       "1                  4  \n",
       "2                  4  \n",
       "3                  4  \n",
       "4                  4  \n",
       "\n",
       "[5 rows x 22 columns]"
      ]
     },
     "execution_count": 67,
     "metadata": {},
     "output_type": "execute_result"
    }
   ],
   "source": [
    "dataset = df2[['Year', 'Source_title',\n",
    "          'Total_Citation',\n",
    "       'Total_Title', 'Max_Citation', 'Total_Journal', 'Delta_publications',\n",
    "       'autor_career', 'citation_journal', 'Delta_coautores', \n",
    "       'Years', 'cant_coautores', 'journal_mean_citation', 'index',\n",
    "       'CiteScore', 'Percentile', 'Citation Count', 'Scholarly Output',\n",
    "       'Percent Cited', 'Scopus Sub-Subject Area', 'h-index',\n",
    "        'nivel_de_citacion']]\n",
    "\n",
    "dataset.head(5)\n",
    "\n"
   ]
  },
  {
   "cell_type": "code",
   "execution_count": 83,
   "metadata": {},
   "outputs": [],
   "source": [
    "\n",
    "# Clasificacion de los parametros\n",
    "X = dataset.iloc[:, [0,20]].values\n",
    "y = dataset.iloc[:, 21].values\n",
    "\n"
   ]
  },
  {
   "cell_type": "code",
   "execution_count": 74,
   "metadata": {},
   "outputs": [],
   "source": [
    "# Dividir el data set en conjunto de entrenamiento y conjunto de testing\n",
    "from sklearn.model_selection import train_test_split # componente que nos permite hacer la particion\n",
    "X_train, X_test, y_train, y_test = train_test_split(X, y, test_size = 0.25, random_state = 0)"
   ]
  },
  {
   "cell_type": "code",
   "execution_count": 94,
   "metadata": {},
   "outputs": [],
   "source": [
    "# Ajustar el clasificador de Árbol de Decisión en el Conjunto de Entrenamiento son varios clasificadores o modelos \n",
    "#entropy es uno\n",
    "from sklearn.tree import DecisionTreeClassifier\n",
    "classifier = DecisionTreeClassifier(criterion = \"gini\", random_state = 2)\n",
    "classifier.fit(X_train, y_train)\n",
    "\n",
    "\n",
    "from sklearn.model_selection import cross_val_score\n",
    "all_accuracies = cross_val_score(estimator=classifier, X=X_train, y=y_train, cv=20)\n"
   ]
  },
  {
   "cell_type": "code",
   "execution_count": 95,
   "metadata": {},
   "outputs": [
    {
     "data": {
      "text/plain": [
       "array([0.61525796, 0.61361142, 0.61285008, 0.60131796, 0.60164835,\n",
       "       0.61318681, 0.62527473, 0.60054945, 0.61318681, 0.62087912,\n",
       "       0.60384615, 0.62362637, 0.60417812, 0.59538208, 0.61792194,\n",
       "       0.60472787, 0.61737218, 0.61407367, 0.610011  , 0.61716172])"
      ]
     },
     "execution_count": 95,
     "metadata": {},
     "output_type": "execute_result"
    }
   ],
   "source": [
    "all_accuracies"
   ]
  },
  {
   "cell_type": "code",
   "execution_count": 98,
   "metadata": {},
   "outputs": [
    {
     "data": {
      "text/plain": [
       "0.6113031894093748"
      ]
     },
     "execution_count": 98,
     "metadata": {},
     "output_type": "execute_result"
    }
   ],
   "source": [
    "all_accuracies.mean()"
   ]
  },
  {
   "cell_type": "code",
   "execution_count": 76,
   "metadata": {},
   "outputs": [],
   "source": [
    "# Predicción de los resultados con el Conjunto de Testing\n",
    "y_pred  = classifier.predict(X_test)"
   ]
  },
  {
   "cell_type": "code",
   "execution_count": 77,
   "metadata": {},
   "outputs": [],
   "source": [
    "# Elaborar una matriz de confusión\n",
    "from sklearn.metrics import confusion_matrix # Componente del paquete para esta funcionalidad\n",
    "cm = confusion_matrix(y_test, y_pred)"
   ]
  },
  {
   "cell_type": "code",
   "execution_count": 78,
   "metadata": {},
   "outputs": [
    {
     "data": {
      "text/plain": [
       "array([[   0, 1216,    0,   48],\n",
       "       [   0, 2341,    1,  275],\n",
       "       [   0, 1744,    0,  524],\n",
       "       [   0,  902,    1, 5081]], dtype=int64)"
      ]
     },
     "execution_count": 78,
     "metadata": {},
     "output_type": "execute_result"
    }
   ],
   "source": [
    "cm"
   ]
  },
  {
   "cell_type": "code",
   "execution_count": 79,
   "metadata": {},
   "outputs": [
    {
     "data": {
      "text/plain": [
       "array(['3', '2', '4', ..., '4', '4', '4'], dtype=object)"
      ]
     },
     "execution_count": 79,
     "metadata": {},
     "output_type": "execute_result"
    }
   ],
   "source": [
    "y_test"
   ]
  },
  {
   "cell_type": "code",
   "execution_count": 80,
   "metadata": {},
   "outputs": [
    {
     "data": {
      "text/plain": [
       "array(['2', '2', '4', ..., '4', '4', '4'], dtype=object)"
      ]
     },
     "execution_count": 80,
     "metadata": {},
     "output_type": "execute_result"
    }
   ],
   "source": [
    "y_pred"
   ]
  },
  {
   "cell_type": "code",
   "execution_count": 81,
   "metadata": {
    "scrolled": true
   },
   "outputs": [
    {
     "data": {
      "text/plain": [
       "0.6117201022006099"
      ]
     },
     "execution_count": 81,
     "metadata": {},
     "output_type": "execute_result"
    }
   ],
   "source": [
    "from sklearn.metrics import accuracy_score # revisar el nivel de precicion\n",
    "accuracy_score(y_test, y_pred)"
   ]
  },
  {
   "cell_type": "code",
   "execution_count": 86,
   "metadata": {},
   "outputs": [
    {
     "name": "stdout",
     "output_type": "stream",
     "text": [
      "             precision    recall  f1-score   support\n",
      "\n",
      "          1       0.00      0.00      0.00      1264\n",
      "          2       0.38      0.89      0.53      2617\n",
      "          3       0.00      0.00      0.00      2268\n",
      "          4       0.86      0.85      0.85      5984\n",
      "\n",
      "avg / total       0.50      0.61      0.54     12133\n",
      "\n"
     ]
    },
    {
     "name": "stderr",
     "output_type": "stream",
     "text": [
      "C:\\Users\\wilme\\Anaconda3\\lib\\site-packages\\sklearn\\metrics\\classification.py:1135: UndefinedMetricWarning: Precision and F-score are ill-defined and being set to 0.0 in labels with no predicted samples.\n",
      "  'precision', 'predicted', average, warn_for)\n"
     ]
    }
   ],
   "source": [
    "from sklearn.metrics import classification_report\n",
    "print(classification_report(y_test, y_pred))"
   ]
  },
  {
   "cell_type": "code",
   "execution_count": null,
   "metadata": {},
   "outputs": [],
   "source": []
  }
 ],
 "metadata": {
  "kernelspec": {
   "display_name": "Python 3",
   "language": "python",
   "name": "python3"
  },
  "language_info": {
   "codemirror_mode": {
    "name": "ipython",
    "version": 3
   },
   "file_extension": ".py",
   "mimetype": "text/x-python",
   "name": "python",
   "nbconvert_exporter": "python",
   "pygments_lexer": "ipython3",
   "version": "3.6.5"
  }
 },
 "nbformat": 4,
 "nbformat_minor": 2
}
