{
 "cells": [
  {
   "cell_type": "code",
   "execution_count": 1,
   "metadata": {},
   "outputs": [],
   "source": [
    "import pandas as pd\n",
    "from datetime import date\n",
    "import time\n",
    "pd.set_option('display.max_columns', None) # PAra que se vean todas las columnas de los df"
   ]
  },
  {
   "cell_type": "code",
   "execution_count": 2,
   "metadata": {},
   "outputs": [
    {
     "name": "stderr",
     "output_type": "stream",
     "text": [
      "C:\\Users\\YORLEY\\Anaconda3\\lib\\site-packages\\IPython\\core\\interactiveshell.py:3020: DtypeWarning: Columns (7,21,22,24) have mixed types. Specify dtype option on import or set low_memory=False.\n",
      "  interactivity=interactivity, compiler=compiler, result=result)\n"
     ]
    }
   ],
   "source": [
    "df = pd.read_csv(r'Data/scopus_bd_aumentada.csv', sep=\",\")"
   ]
  },
  {
   "cell_type": "code",
   "execution_count": 44,
   "metadata": {},
   "outputs": [],
   "source": [
    "df_final = df[['Author(s)_ID_Rev','Title','Year','Source_title','Document_Type','Abstract' ]][df['Document_Type']=='Article']\n",
    "df_final.dropna(subset=['Author(s)_ID_Rev','Title'],inplace=True)\n",
    "df_final.dropna(subset=['Author(s)_ID_Rev'],inplace=True)"
   ]
  },
  {
   "cell_type": "code",
   "execution_count": 45,
   "metadata": {},
   "outputs": [],
   "source": [
    "df_authors = df[['Authors_Rev','Author(s)_ID_Rev']][:].drop_duplicates(subset='Author(s)_ID_Rev')"
   ]
  },
  {
   "cell_type": "markdown",
   "metadata": {},
   "source": [
    "### Total Citaciones"
   ]
  },
  {
   "cell_type": "code",
   "execution_count": 46,
   "metadata": {},
   "outputs": [],
   "source": [
    "df_temp=df[['Author(s)_ID_Rev', 'Cited_by']].groupby(by='Author(s)_ID_Rev').sum()\n",
    "df_temp.reset_index(level=0, inplace=True)"
   ]
  },
  {
   "cell_type": "code",
   "execution_count": 47,
   "metadata": {},
   "outputs": [],
   "source": [
    "df_authors = df_authors.merge(right=df_temp, how='inner', on='Author(s)_ID_Rev')"
   ]
  },
  {
   "cell_type": "markdown",
   "metadata": {},
   "source": [
    "### Total Artículos publicados"
   ]
  },
  {
   "cell_type": "code",
   "execution_count": 48,
   "metadata": {},
   "outputs": [],
   "source": [
    "df_temp=df[['Author(s)_ID_Rev', 'Title']].groupby(by='Author(s)_ID_Rev').count()\n",
    "#Convierte el indice en otro campo\n",
    "df_temp.reset_index(level=0, inplace=True)"
   ]
  },
  {
   "cell_type": "code",
   "execution_count": 49,
   "metadata": {},
   "outputs": [],
   "source": [
    "df_authors = df_authors.merge(df_temp, how='inner', on ='Author(s)_ID_Rev')"
   ]
  },
  {
   "cell_type": "markdown",
   "metadata": {},
   "source": [
    "### Máximo número de citaciones"
   ]
  },
  {
   "cell_type": "code",
   "execution_count": 50,
   "metadata": {},
   "outputs": [],
   "source": [
    "df_temp=df[['Author(s)_ID_Rev', 'Cited_by']].groupby(by='Author(s)_ID_Rev').max()\n",
    "df_temp.reset_index(level=0, inplace=True)"
   ]
  },
  {
   "cell_type": "code",
   "execution_count": 51,
   "metadata": {},
   "outputs": [],
   "source": [
    "df_authors = df_authors.merge(right=df_temp, how='inner', on='Author(s)_ID_Rev')\n",
    "df_authors.columns = ['Authors_Rev', 'Author(s)_ID_Rev', 'Total_Citation', 'Total_Title', 'Max_Citation']\n",
    "df_authors['Max_Citation'].fillna(0, inplace=True)"
   ]
  },
  {
   "cell_type": "markdown",
   "metadata": {},
   "source": [
    "### Número de Revistas"
   ]
  },
  {
   "cell_type": "code",
   "execution_count": 52,
   "metadata": {},
   "outputs": [],
   "source": [
    "df_temp=df[['Author(s)_ID_Rev', 'Source_title']].groupby(by=['Author(s)_ID_Rev']).nunique()\n",
    "df_temp = df_temp[['Source_title']]\n",
    "df_temp.reset_index(level=0, inplace=True)\n",
    "df_temp.columns = ['Author(s)_ID_Rev','Total_Journal']\n",
    "df_temp.sort_values(by='Total_Journal', ascending = False, inplace= True)"
   ]
  },
  {
   "cell_type": "code",
   "execution_count": 53,
   "metadata": {},
   "outputs": [],
   "source": [
    "df_authors = df_authors.merge(df_temp, how='inner', on ='Author(s)_ID_Rev')"
   ]
  },
  {
   "cell_type": "code",
   "execution_count": 54,
   "metadata": {},
   "outputs": [],
   "source": [
    "año_actual=int(date.today().strftime(\"%Y\"))\n",
    "año_pasado=año_actual-1"
   ]
  },
  {
   "cell_type": "code",
   "execution_count": 55,
   "metadata": {},
   "outputs": [],
   "source": [
    "df2_años=df[(df['Year']==año_actual) | (df['Year']==año_pasado) ]"
   ]
  },
  {
   "cell_type": "markdown",
   "metadata": {},
   "source": [
    "### Total Publicaciones últimos dos años"
   ]
  },
  {
   "cell_type": "code",
   "execution_count": 56,
   "metadata": {},
   "outputs": [],
   "source": [
    "df_temp=df2_años[['Author(s)_ID_Rev', 'Title']].groupby(by='Author(s)_ID_Rev').count()\n",
    "df_temp.reset_index(level=0, inplace=True)\n",
    "df_temp.columns = ['Author(s)_ID_Rev','Delta_publications']\n",
    "df_authors = df_authors.merge(df_temp, how='left', on ='Author(s)_ID_Rev')"
   ]
  },
  {
   "cell_type": "code",
   "execution_count": 57,
   "metadata": {},
   "outputs": [],
   "source": [
    "df_authors['Delta_publications'].fillna(0, inplace=True)\n"
   ]
  },
  {
   "cell_type": "markdown",
   "metadata": {},
   "source": [
    "### Carrera Autor"
   ]
  },
  {
   "cell_type": "code",
   "execution_count": 58,
   "metadata": {},
   "outputs": [],
   "source": [
    "df_temp = df[['Author(s)_ID_Rev','Year']].groupby(by = 'Author(s)_ID_Rev').min()\n",
    "df_temp.reset_index(level=0, inplace=True)\n",
    "df2_temp = df[['Author(s)_ID_Rev','Year']].groupby(by = 'Author(s)_ID_Rev').max()\n",
    "df2_temp.reset_index(level=0, inplace=True)\n",
    "df_temp = df_temp.merge(df2_temp, how='left', on='Author(s)_ID_Rev')\n",
    "df_temp['autor_career'] =  df_temp['Year_y'] - df_temp['Year_x']\n",
    "df_authors = df_authors.merge(df_temp[['Author(s)_ID_Rev','autor_career']], how='left', on ='Author(s)_ID_Rev')"
   ]
  },
  {
   "cell_type": "markdown",
   "metadata": {},
   "source": [
    "### Citación Media por Revista"
   ]
  },
  {
   "cell_type": "code",
   "execution_count": 59,
   "metadata": {},
   "outputs": [],
   "source": [
    "df_temp = df[['Source_title','Cited_by']].groupby(by='Source_title').mean().fillna(0)\n",
    "df_temp.reset_index(level=0, inplace=True)"
   ]
  },
  {
   "cell_type": "code",
   "execution_count": 60,
   "metadata": {},
   "outputs": [],
   "source": [
    "df2_temp = df[['Author(s)_ID_Rev','Source_title','Cited_by']].groupby(by=['Author(s)_ID_Rev','Source_title']).mean().fillna(0)\n",
    "df2_temp.reset_index(level=['Author(s)_ID_Rev','Source_title'],inplace=True)\n",
    "df2_temp =df2_temp.merge(df_temp, how='left', on='Source_title')\n",
    "df2_temp = df2_temp[['Author(s)_ID_Rev','Cited_by_y']].groupby(by='Author(s)_ID_Rev').mean()\n",
    "df2_temp.reset_index(level=0,inplace=True)\n",
    "df2_temp.columns = ['Author(s)_ID_Rev','citation_journal']\n",
    "df_authors = df_authors.merge(df2_temp, how='left', on='Author(s)_ID_Rev')"
   ]
  },
  {
   "cell_type": "markdown",
   "metadata": {},
   "source": [
    "### Total Coautores ultimos dos años"
   ]
  },
  {
   "cell_type": "markdown",
   "metadata": {},
   "source": [
    "#### Leer\n",
    "* Identificación de Todos los autores\n",
    "* para cada autor se revisan los papers que en los que aparece\n",
    "* para cada paper de ese autor se revisan cuantas veces aparece bajo un nombre diferente al del autor superior\n",
    "* si el autor que aparece no se ha añadido a la lista de coautores se hace.\n",
    "\n",
    "# Esto se demora corriendo alrededor de 10 minutos\n",
    "## puedes irte a tomar una bebida caliente mientras tanto\n",
    "### es en serio :( :("
   ]
  },
  {
   "cell_type": "code",
   "execution_count": 61,
   "metadata": {},
   "outputs": [],
   "source": [
    "start = time.time()\n",
    "#Línea de prueba para correr rápido\n",
    "#lista_autores = df2_años['Author(s)_ID_Rev'][df2_años['Author(s)_ID_Rev']=='53866250100'].unique()\n",
    "lista_autores = df2_años['Author(s)_ID_Rev'].unique()[:]\n",
    "lista_coautores = []\n",
    "for autor in lista_autores:\n",
    "    df_paper = df2_años[['Author(s)_ID_Rev','Title']][df2_años['Author(s)_ID_Rev']==autor]\n",
    "    lista_papers = df_paper['Title']\n",
    "    coautores = []\n",
    "    for paper in lista_papers:\n",
    "        coautor = (df2_años[['Author(s)_ID_Rev','Title']][(df2_años['Title']==paper)&(df2_años['Author(s)_ID_Rev']!=autor)]\n",
    "                   ['Author(s)_ID_Rev'])\n",
    "        if len(coautor)==0:\n",
    "            continue\n",
    "        else:\n",
    "            coautor = (df2_años[['Author(s)_ID_Rev','Title']][(df2_años['Title']==paper)&(df2_años['Author(s)_ID_Rev']!=autor)]\n",
    "                   ['Author(s)_ID_Rev'])\n",
    "        for c in coautor:\n",
    "            if c is not coautores:\n",
    "                coautores.append(c)\n",
    "    del(df_paper)\n",
    "    lista_coautores.append([autor,len(coautores)])\n",
    "end = time.time()\n",
    "#print((end - start)/60)"
   ]
  },
  {
   "cell_type": "code",
   "execution_count": 62,
   "metadata": {},
   "outputs": [
    {
     "data": {
      "text/plain": [
       "4.9693898757298784"
      ]
     },
     "execution_count": 62,
     "metadata": {},
     "output_type": "execute_result"
    }
   ],
   "source": [
    "#Tiempo de ejecución\n",
    "(end -start)/60"
   ]
  },
  {
   "cell_type": "markdown",
   "metadata": {},
   "source": [
    "### lista_coautores"
   ]
  },
  {
   "cell_type": "code",
   "execution_count": 64,
   "metadata": {},
   "outputs": [],
   "source": [
    "df2_temp = pd.DataFrame(lista_coautores, columns=['Author(s)_ID_Rev','Delta_coautores'])"
   ]
  },
  {
   "cell_type": "code",
   "execution_count": 67,
   "metadata": {},
   "outputs": [],
   "source": [
    "df_authors = df_authors.merge(df2_temp, how='left', on='Author(s)_ID_Rev').sort_values(by='Delta_publications', ascending = False)"
   ]
  },
  {
   "cell_type": "code",
   "execution_count": 68,
   "metadata": {},
   "outputs": [],
   "source": [
    "# Los autores que no tuvieron publicaciones en los últimos dos años, reportan Nan en coautores\n",
    "df_authors['Delta_coautores'].fillna(0, inplace=True)"
   ]
  },
  {
   "cell_type": "code",
   "execution_count": 70,
   "metadata": {},
   "outputs": [
    {
     "data": {
      "text/plain": [
       "Authors_Rev           False\n",
       "Author(s)_ID_Rev      False\n",
       "Total_Citation        False\n",
       "Total_Title           False\n",
       "Max_Citation          False\n",
       "Total_Journal         False\n",
       "Delta_publications    False\n",
       "autor_career          False\n",
       "citation_journal      False\n",
       "Delta_coautores       False\n",
       "dtype: bool"
      ]
     },
     "execution_count": 70,
     "metadata": {},
     "output_type": "execute_result"
    }
   ],
   "source": [
    "#Aun hay datos nulos\n",
    "df_authors.isnull().any()"
   ]
  },
  {
   "cell_type": "markdown",
   "metadata": {},
   "source": [
    "# Indicadores Papers\n",
    "\n",
    "* Citaciones por Artículos\n",
    "* años del artículos\n",
    "* Cantidad de coautures"
   ]
  },
  {
   "cell_type": "code",
   "execution_count": 81,
   "metadata": {},
   "outputs": [],
   "source": [
    "df_papers =df[['Title','Cited_by']].drop_duplicates(subset='Title').fillna(0)\n",
    "df_temp = df[['Title','Year']].drop_duplicates(subset='Title').fillna(0)\n",
    "df_temp['Year'] = año_actual - df_temp['Year']\n",
    "df_papers = df_papers.merge(df_temp, how='left', on = 'Title')\n",
    "df_temp = df[['Title', 'Author(s)_ID_Rev']].fillna(0).groupby(by='Title').count()\n",
    "df_temp.reset_index(level=0, inplace= True)\n",
    "df_papers = df_papers.merge(df_temp, how='left', on = 'Title')\n",
    "df_papers.columns = ['Title', 'Cited_by', 'Years', 'cant_coautores']"
   ]
  },
  {
   "cell_type": "markdown",
   "metadata": {},
   "source": [
    "### Citaciones por revista"
   ]
  },
  {
   "cell_type": "code",
   "execution_count": 83,
   "metadata": {
    "scrolled": true
   },
   "outputs": [],
   "source": [
    "#Revistas y Citaciones\n",
    "df_temp = df[['Source_title','Cited_by']].groupby(by='Source_title').mean().fillna(0)\n",
    "df_temp.reset_index(level=0, inplace=True)"
   ]
  },
  {
   "cell_type": "code",
   "execution_count": 87,
   "metadata": {},
   "outputs": [],
   "source": [
    "df2_temp = df[['Title','Source_title','Cited_by']].groupby(by=['Title','Source_title']).mean().fillna(0)\n",
    "df2_temp.reset_index(level=['Title','Source_title'],inplace=True)\n",
    "df2_temp =df2_temp.merge(df_temp, how='left', on='Source_title')\n",
    "df2_temp = df2_temp[['Title','Cited_by_y']].groupby(by='Title').mean()\n",
    "df2_temp.reset_index(level=0,inplace=True)\n",
    "df2_temp.columns = ['Title','journal_mean_citation']\n",
    "df_papers = df_papers.merge(df2_temp, how='left', on='Title')"
   ]
  },
  {
   "cell_type": "code",
   "execution_count": 89,
   "metadata": {},
   "outputs": [
    {
     "data": {
      "text/plain": [
       "Title                    False\n",
       "Cited_by                 False\n",
       "Years                    False\n",
       "cant_coautores           False\n",
       "journal_mean_citation    False\n",
       "dtype: bool"
      ]
     },
     "execution_count": 89,
     "metadata": {},
     "output_type": "execute_result"
    }
   ],
   "source": [
    "#Hay datos nulos\n",
    "df_papers.isna().any()"
   ]
  },
  {
   "cell_type": "markdown",
   "metadata": {},
   "source": [
    "### Cosolidacion de los datos"
   ]
  },
  {
   "cell_type": "code",
   "execution_count": 90,
   "metadata": {},
   "outputs": [],
   "source": [
    "# Creacion de un df vacio que se utilizará para consolidar toda la información\n",
    "df_consol = (df_final\n",
    "             .merge(df_authors, how='left', on='Author(s)_ID_Rev')\n",
    "             .merge(df_papers, how='left', on='Title')\n",
    "            )"
   ]
  },
  {
   "cell_type": "code",
   "execution_count": 94,
   "metadata": {},
   "outputs": [],
   "source": [
    "#df_authors.to_csv('indicadores_autores.csv')\n",
    "#df_papers.to_csv('indicadores_papers.csv')\n",
    "df_consol.to_csv('Data/scopus_con_indicadores.csv')"
   ]
  }
 ],
 "metadata": {
  "kernelspec": {
   "display_name": "Python 3",
   "language": "python",
   "name": "python3"
  },
  "language_info": {
   "codemirror_mode": {
    "name": "ipython",
    "version": 3
   },
   "file_extension": ".py",
   "mimetype": "text/x-python",
   "name": "python",
   "nbconvert_exporter": "python",
   "pygments_lexer": "ipython3",
   "version": "3.7.1"
  }
 },
 "nbformat": 4,
 "nbformat_minor": 2
}
