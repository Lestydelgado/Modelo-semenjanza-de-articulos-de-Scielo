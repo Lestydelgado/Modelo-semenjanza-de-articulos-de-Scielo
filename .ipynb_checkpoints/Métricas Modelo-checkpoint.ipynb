{
 "cells": [
  {
   "cell_type": "code",
   "execution_count": 1,
   "metadata": {},
   "outputs": [],
   "source": [
    "import pandas as pd\n",
    "from datetime import date"
   ]
  },
  {
   "cell_type": "code",
   "execution_count": 2,
   "metadata": {},
   "outputs": [],
   "source": [
    "import time"
   ]
  },
  {
   "cell_type": "code",
   "execution_count": 3,
   "metadata": {},
   "outputs": [
    {
     "name": "stderr",
     "output_type": "stream",
     "text": [
      "C:\\Users\\ECSIM\\Anaconda3\\lib\\site-packages\\IPython\\core\\interactiveshell.py:2785: DtypeWarning: Columns (7,21,22,24) have mixed types. Specify dtype option on import or set low_memory=False.\n",
      "  interactivity=interactivity, compiler=compiler, result=result)\n"
     ]
    }
   ],
   "source": [
    "df = pd.read_csv(r'Data/scopus_bd_aumentada.csv', sep=\",\")"
   ]
  },
  {
   "cell_type": "code",
   "execution_count": 4,
   "metadata": {},
   "outputs": [
    {
     "data": {
      "text/plain": [
       "Index(['Authors', 'Author(s)_ID', 'Authors_Rev', 'Author(s)_ID_Rev', 'Title',\n",
       "       'Year', 'Source_title', 'Volume', 'Issue', 'Art._No.', 'Page_start',\n",
       "       'Page_end', 'Page_count', 'Cited_by', 'DOI', 'Link', 'Affiliations',\n",
       "       'Authors_with_affiliations', 'Abstract', 'Author_Keywords',\n",
       "       'Index_Keywords', 'ISSN', 'ISBN', 'CODEN', 'PubMed_ID', 'Document_Type',\n",
       "       'Publication_Stage', 'Access_Type', 'Source', 'EID'],\n",
       "      dtype='object')"
      ]
     },
     "execution_count": 4,
     "metadata": {},
     "output_type": "execute_result"
    }
   ],
   "source": [
    "df.columns"
   ]
  },
  {
   "cell_type": "code",
   "execution_count": 5,
   "metadata": {},
   "outputs": [
    {
     "name": "stdout",
     "output_type": "stream",
     "text": [
      "<class 'pandas.core.frame.DataFrame'>\n",
      "RangeIndex: 177350 entries, 0 to 177349\n",
      "Data columns (total 30 columns):\n",
      "Authors                      177350 non-null object\n",
      "Author(s)_ID                 177350 non-null object\n",
      "Authors_Rev                  177350 non-null object\n",
      "Author(s)_ID_Rev             177132 non-null object\n",
      "Title                        177350 non-null object\n",
      "Year                         177350 non-null int64\n",
      "Source_title                 177350 non-null object\n",
      "Volume                       173848 non-null object\n",
      "Issue                        171373 non-null object\n",
      "Art._No.                     11709 non-null object\n",
      "Page_start                   161714 non-null object\n",
      "Page_end                     159858 non-null object\n",
      "Page_count                   1287 non-null float64\n",
      "Cited_by                     115720 non-null float64\n",
      "DOI                          97162 non-null object\n",
      "Link                         177350 non-null object\n",
      "Affiliations                 174552 non-null object\n",
      "Authors_with_affiliations    176960 non-null object\n",
      "Abstract                     177350 non-null object\n",
      "Author_Keywords              150529 non-null object\n",
      "Index_Keywords               107541 non-null object\n",
      "ISSN                         177048 non-null object\n",
      "ISBN                         129 non-null object\n",
      "CODEN                        35972 non-null object\n",
      "PubMed_ID                    9357 non-null object\n",
      "Document_Type                177255 non-null object\n",
      "Publication_Stage            177350 non-null object\n",
      "Access_Type                  85133 non-null object\n",
      "Source                       177350 non-null object\n",
      "EID                          177350 non-null object\n",
      "dtypes: float64(2), int64(1), object(27)\n",
      "memory usage: 40.6+ MB\n"
     ]
    }
   ],
   "source": [
    "df.info()"
   ]
  },
  {
   "cell_type": "code",
   "execution_count": 6,
   "metadata": {},
   "outputs": [
    {
     "data": {
      "text/html": [
       "<div>\n",
       "<style scoped>\n",
       "    .dataframe tbody tr th:only-of-type {\n",
       "        vertical-align: middle;\n",
       "    }\n",
       "\n",
       "    .dataframe tbody tr th {\n",
       "        vertical-align: top;\n",
       "    }\n",
       "\n",
       "    .dataframe thead th {\n",
       "        text-align: right;\n",
       "    }\n",
       "</style>\n",
       "<table border=\"1\" class=\"dataframe\">\n",
       "  <thead>\n",
       "    <tr style=\"text-align: right;\">\n",
       "      <th></th>\n",
       "      <th>Authors</th>\n",
       "      <th>Author(s)_ID</th>\n",
       "      <th>Authors_Rev</th>\n",
       "      <th>Author(s)_ID_Rev</th>\n",
       "      <th>Title</th>\n",
       "      <th>Year</th>\n",
       "      <th>Source_title</th>\n",
       "      <th>Volume</th>\n",
       "      <th>Issue</th>\n",
       "      <th>Art._No.</th>\n",
       "      <th>...</th>\n",
       "      <th>Index_Keywords</th>\n",
       "      <th>ISSN</th>\n",
       "      <th>ISBN</th>\n",
       "      <th>CODEN</th>\n",
       "      <th>PubMed_ID</th>\n",
       "      <th>Document_Type</th>\n",
       "      <th>Publication_Stage</th>\n",
       "      <th>Access_Type</th>\n",
       "      <th>Source</th>\n",
       "      <th>EID</th>\n",
       "    </tr>\n",
       "  </thead>\n",
       "  <tbody>\n",
       "    <tr>\n",
       "      <th>0</th>\n",
       "      <td>Vanzolini P.E.</td>\n",
       "      <td>6602373241</td>\n",
       "      <td>Vanzolini P.E.</td>\n",
       "      <td>6602373241</td>\n",
       "      <td>On Gymnodactylus amarali Barbour, 1925, with t...</td>\n",
       "      <td>2005</td>\n",
       "      <td>Anais da Academia Brasileira de Ciencias</td>\n",
       "      <td>77</td>\n",
       "      <td>4</td>\n",
       "      <td>NaN</td>\n",
       "      <td>...</td>\n",
       "      <td>animal; article; Brazil; classification; compa...</td>\n",
       "      <td>13765</td>\n",
       "      <td>NaN</td>\n",
       "      <td>NaN</td>\n",
       "      <td>1.63414e+07</td>\n",
       "      <td>Article</td>\n",
       "      <td>Final</td>\n",
       "      <td>NaN</td>\n",
       "      <td>Scopus</td>\n",
       "      <td>2-s2.0-31044450573</td>\n",
       "    </tr>\n",
       "    <tr>\n",
       "      <th>1</th>\n",
       "      <td>De Wagener A.L.R.</td>\n",
       "      <td>7004422261</td>\n",
       "      <td>De Wagener A.L.R.</td>\n",
       "      <td>7004422261</td>\n",
       "      <td>Constraints to the implementation of effective...</td>\n",
       "      <td>2005</td>\n",
       "      <td>Anais da Academia Brasileira de Ciencias</td>\n",
       "      <td>77</td>\n",
       "      <td>4</td>\n",
       "      <td>NaN</td>\n",
       "      <td>...</td>\n",
       "      <td>article; developing country; environmental mon...</td>\n",
       "      <td>13765</td>\n",
       "      <td>NaN</td>\n",
       "      <td>NaN</td>\n",
       "      <td>1.63414e+07</td>\n",
       "      <td>Article</td>\n",
       "      <td>Final</td>\n",
       "      <td>NaN</td>\n",
       "      <td>Scopus</td>\n",
       "      <td>2-s2.0-31044447222</td>\n",
       "    </tr>\n",
       "    <tr>\n",
       "      <th>2</th>\n",
       "      <td>Mexias A.S., Berger G., Gomes M.E.B., Formoso ...</td>\n",
       "      <td>11739855600;7202349172;11738879800;6603689065;...</td>\n",
       "      <td>Mexias A.S.</td>\n",
       "      <td>11739855600</td>\n",
       "      <td>Geochemical modeling of gold precipitation con...</td>\n",
       "      <td>2005</td>\n",
       "      <td>Anais da Academia Brasileira de Ciencias</td>\n",
       "      <td>77</td>\n",
       "      <td>4</td>\n",
       "      <td>NaN</td>\n",
       "      <td>...</td>\n",
       "      <td>article; Butia</td>\n",
       "      <td>13765</td>\n",
       "      <td>NaN</td>\n",
       "      <td>NaN</td>\n",
       "      <td>1.63414e+07</td>\n",
       "      <td>Article</td>\n",
       "      <td>Final</td>\n",
       "      <td>NaN</td>\n",
       "      <td>Scopus</td>\n",
       "      <td>2-s2.0-31044441319</td>\n",
       "    </tr>\n",
       "    <tr>\n",
       "      <th>3</th>\n",
       "      <td>Mexias A.S., Berger G., Gomes M.E.B., Formoso ...</td>\n",
       "      <td>11739855600;7202349172;11738879800;6603689065;...</td>\n",
       "      <td>Berger G.</td>\n",
       "      <td>7202349172</td>\n",
       "      <td>Geochemical modeling of gold precipitation con...</td>\n",
       "      <td>2005</td>\n",
       "      <td>Anais da Academia Brasileira de Ciencias</td>\n",
       "      <td>77</td>\n",
       "      <td>4</td>\n",
       "      <td>NaN</td>\n",
       "      <td>...</td>\n",
       "      <td>article; Butia</td>\n",
       "      <td>13765</td>\n",
       "      <td>NaN</td>\n",
       "      <td>NaN</td>\n",
       "      <td>1.63414e+07</td>\n",
       "      <td>Article</td>\n",
       "      <td>Final</td>\n",
       "      <td>NaN</td>\n",
       "      <td>Scopus</td>\n",
       "      <td>2-s2.0-31044441319</td>\n",
       "    </tr>\n",
       "    <tr>\n",
       "      <th>4</th>\n",
       "      <td>Mexias A.S., Berger G., Gomes M.E.B., Formoso ...</td>\n",
       "      <td>11739855600;7202349172;11738879800;6603689065;...</td>\n",
       "      <td>Gomes M.E.B.</td>\n",
       "      <td>11738879800</td>\n",
       "      <td>Geochemical modeling of gold precipitation con...</td>\n",
       "      <td>2005</td>\n",
       "      <td>Anais da Academia Brasileira de Ciencias</td>\n",
       "      <td>77</td>\n",
       "      <td>4</td>\n",
       "      <td>NaN</td>\n",
       "      <td>...</td>\n",
       "      <td>article; Butia</td>\n",
       "      <td>13765</td>\n",
       "      <td>NaN</td>\n",
       "      <td>NaN</td>\n",
       "      <td>1.63414e+07</td>\n",
       "      <td>Article</td>\n",
       "      <td>Final</td>\n",
       "      <td>NaN</td>\n",
       "      <td>Scopus</td>\n",
       "      <td>2-s2.0-31044441319</td>\n",
       "    </tr>\n",
       "  </tbody>\n",
       "</table>\n",
       "<p>5 rows × 30 columns</p>\n",
       "</div>"
      ],
      "text/plain": [
       "                                             Authors  \\\n",
       "0                                     Vanzolini P.E.   \n",
       "1                                  De Wagener A.L.R.   \n",
       "2  Mexias A.S., Berger G., Gomes M.E.B., Formoso ...   \n",
       "3  Mexias A.S., Berger G., Gomes M.E.B., Formoso ...   \n",
       "4  Mexias A.S., Berger G., Gomes M.E.B., Formoso ...   \n",
       "\n",
       "                                        Author(s)_ID        Authors_Rev  \\\n",
       "0                                         6602373241     Vanzolini P.E.   \n",
       "1                                         7004422261  De Wagener A.L.R.   \n",
       "2  11739855600;7202349172;11738879800;6603689065;...        Mexias A.S.   \n",
       "3  11739855600;7202349172;11738879800;6603689065;...          Berger G.   \n",
       "4  11739855600;7202349172;11738879800;6603689065;...       Gomes M.E.B.   \n",
       "\n",
       "  Author(s)_ID_Rev                                              Title  Year  \\\n",
       "0       6602373241  On Gymnodactylus amarali Barbour, 1925, with t...  2005   \n",
       "1       7004422261  Constraints to the implementation of effective...  2005   \n",
       "2      11739855600  Geochemical modeling of gold precipitation con...  2005   \n",
       "3       7202349172  Geochemical modeling of gold precipitation con...  2005   \n",
       "4      11738879800  Geochemical modeling of gold precipitation con...  2005   \n",
       "\n",
       "                               Source_title Volume Issue Art._No.  \\\n",
       "0  Anais da Academia Brasileira de Ciencias     77     4      NaN   \n",
       "1  Anais da Academia Brasileira de Ciencias     77     4      NaN   \n",
       "2  Anais da Academia Brasileira de Ciencias     77     4      NaN   \n",
       "3  Anais da Academia Brasileira de Ciencias     77     4      NaN   \n",
       "4  Anais da Academia Brasileira de Ciencias     77     4      NaN   \n",
       "\n",
       "          ...                                             Index_Keywords  \\\n",
       "0         ...          animal; article; Brazil; classification; compa...   \n",
       "1         ...          article; developing country; environmental mon...   \n",
       "2         ...                                             article; Butia   \n",
       "3         ...                                             article; Butia   \n",
       "4         ...                                             article; Butia   \n",
       "\n",
       "    ISSN  ISBN  CODEN    PubMed_ID Document_Type Publication_Stage  \\\n",
       "0  13765   NaN    NaN  1.63414e+07       Article             Final   \n",
       "1  13765   NaN    NaN  1.63414e+07       Article             Final   \n",
       "2  13765   NaN    NaN  1.63414e+07       Article             Final   \n",
       "3  13765   NaN    NaN  1.63414e+07       Article             Final   \n",
       "4  13765   NaN    NaN  1.63414e+07       Article             Final   \n",
       "\n",
       "  Access_Type  Source                 EID  \n",
       "0         NaN  Scopus  2-s2.0-31044450573  \n",
       "1         NaN  Scopus  2-s2.0-31044447222  \n",
       "2         NaN  Scopus  2-s2.0-31044441319  \n",
       "3         NaN  Scopus  2-s2.0-31044441319  \n",
       "4         NaN  Scopus  2-s2.0-31044441319  \n",
       "\n",
       "[5 rows x 30 columns]"
      ]
     },
     "execution_count": 6,
     "metadata": {},
     "output_type": "execute_result"
    }
   ],
   "source": [
    "df.head(5)"
   ]
  },
  {
   "cell_type": "code",
   "execution_count": 7,
   "metadata": {},
   "outputs": [],
   "source": [
    "df_authors = df[['Authors_Rev','Author(s)_ID_Rev']][:].drop_duplicates(subset='Author(s)_ID_Rev')"
   ]
  },
  {
   "cell_type": "code",
   "execution_count": 8,
   "metadata": {},
   "outputs": [
    {
     "data": {
      "text/plain": [
       "113949"
      ]
     },
     "execution_count": 8,
     "metadata": {},
     "output_type": "execute_result"
    }
   ],
   "source": [
    "len(df_authors['Authors_Rev'])"
   ]
  },
  {
   "cell_type": "code",
   "execution_count": 9,
   "metadata": {},
   "outputs": [
    {
     "data": {
      "text/html": [
       "<div>\n",
       "<style scoped>\n",
       "    .dataframe tbody tr th:only-of-type {\n",
       "        vertical-align: middle;\n",
       "    }\n",
       "\n",
       "    .dataframe tbody tr th {\n",
       "        vertical-align: top;\n",
       "    }\n",
       "\n",
       "    .dataframe thead th {\n",
       "        text-align: right;\n",
       "    }\n",
       "</style>\n",
       "<table border=\"1\" class=\"dataframe\">\n",
       "  <thead>\n",
       "    <tr style=\"text-align: right;\">\n",
       "      <th></th>\n",
       "      <th>Authors_Rev</th>\n",
       "      <th>Author(s)_ID_Rev</th>\n",
       "    </tr>\n",
       "  </thead>\n",
       "  <tbody>\n",
       "    <tr>\n",
       "      <th>0</th>\n",
       "      <td>Vanzolini P.E.</td>\n",
       "      <td>6602373241</td>\n",
       "    </tr>\n",
       "    <tr>\n",
       "      <th>1</th>\n",
       "      <td>De Wagener A.L.R.</td>\n",
       "      <td>7004422261</td>\n",
       "    </tr>\n",
       "    <tr>\n",
       "      <th>2</th>\n",
       "      <td>Mexias A.S.</td>\n",
       "      <td>11739855600</td>\n",
       "    </tr>\n",
       "    <tr>\n",
       "      <th>3</th>\n",
       "      <td>Berger G.</td>\n",
       "      <td>7202349172</td>\n",
       "    </tr>\n",
       "    <tr>\n",
       "      <th>4</th>\n",
       "      <td>Gomes M.E.B.</td>\n",
       "      <td>11738879800</td>\n",
       "    </tr>\n",
       "    <tr>\n",
       "      <th>5</th>\n",
       "      <td>Formoso M.L.L.</td>\n",
       "      <td>6603689065</td>\n",
       "    </tr>\n",
       "    <tr>\n",
       "      <th>6</th>\n",
       "      <td>Dani N.</td>\n",
       "      <td>6507369527</td>\n",
       "    </tr>\n",
       "    <tr>\n",
       "      <th>7</th>\n",
       "      <td>Frantz J.C.</td>\n",
       "      <td>11739533300</td>\n",
       "    </tr>\n",
       "    <tr>\n",
       "      <th>8</th>\n",
       "      <td>Bongiolo E.M.</td>\n",
       "      <td>11739290800</td>\n",
       "    </tr>\n",
       "    <tr>\n",
       "      <th>9</th>\n",
       "      <td>Mulloy B.</td>\n",
       "      <td>55179052500</td>\n",
       "    </tr>\n",
       "  </tbody>\n",
       "</table>\n",
       "</div>"
      ],
      "text/plain": [
       "         Authors_Rev Author(s)_ID_Rev\n",
       "0     Vanzolini P.E.       6602373241\n",
       "1  De Wagener A.L.R.       7004422261\n",
       "2        Mexias A.S.      11739855600\n",
       "3          Berger G.       7202349172\n",
       "4       Gomes M.E.B.      11738879800\n",
       "5     Formoso M.L.L.       6603689065\n",
       "6            Dani N.       6507369527\n",
       "7        Frantz J.C.      11739533300\n",
       "8      Bongiolo E.M.      11739290800\n",
       "9          Mulloy B.      55179052500"
      ]
     },
     "execution_count": 9,
     "metadata": {},
     "output_type": "execute_result"
    }
   ],
   "source": [
    "df_authors.head(10)"
   ]
  },
  {
   "cell_type": "markdown",
   "metadata": {},
   "source": [
    "### Total Citaciones"
   ]
  },
  {
   "cell_type": "code",
   "execution_count": 10,
   "metadata": {},
   "outputs": [
    {
     "data": {
      "text/html": [
       "<div>\n",
       "<style scoped>\n",
       "    .dataframe tbody tr th:only-of-type {\n",
       "        vertical-align: middle;\n",
       "    }\n",
       "\n",
       "    .dataframe tbody tr th {\n",
       "        vertical-align: top;\n",
       "    }\n",
       "\n",
       "    .dataframe thead th {\n",
       "        text-align: right;\n",
       "    }\n",
       "</style>\n",
       "<table border=\"1\" class=\"dataframe\">\n",
       "  <thead>\n",
       "    <tr style=\"text-align: right;\">\n",
       "      <th></th>\n",
       "      <th>Author(s)_ID_Rev</th>\n",
       "      <th>Cited_by</th>\n",
       "    </tr>\n",
       "  </thead>\n",
       "  <tbody>\n",
       "    <tr>\n",
       "      <th>0</th>\n",
       "      <td>1</td>\n",
       "      <td>0.0</td>\n",
       "    </tr>\n",
       "    <tr>\n",
       "      <th>1</th>\n",
       "      <td>10038943700</td>\n",
       "      <td>12.0</td>\n",
       "    </tr>\n",
       "    <tr>\n",
       "      <th>2</th>\n",
       "      <td>10039167100</td>\n",
       "      <td>9.0</td>\n",
       "    </tr>\n",
       "    <tr>\n",
       "      <th>3</th>\n",
       "      <td>10039295200</td>\n",
       "      <td>19.0</td>\n",
       "    </tr>\n",
       "    <tr>\n",
       "      <th>4</th>\n",
       "      <td>10039317900</td>\n",
       "      <td>22.0</td>\n",
       "    </tr>\n",
       "  </tbody>\n",
       "</table>\n",
       "</div>"
      ],
      "text/plain": [
       "  Author(s)_ID_Rev  Cited_by\n",
       "0                1       0.0\n",
       "1      10038943700      12.0\n",
       "2      10039167100       9.0\n",
       "3      10039295200      19.0\n",
       "4      10039317900      22.0"
      ]
     },
     "execution_count": 10,
     "metadata": {},
     "output_type": "execute_result"
    }
   ],
   "source": [
    "df_temp=df[['Author(s)_ID_Rev', 'Cited_by']].groupby(by='Author(s)_ID_Rev').sum()\n",
    "df_temp.reset_index(level=0, inplace=True)\n",
    "df_temp.head()"
   ]
  },
  {
   "cell_type": "code",
   "execution_count": 11,
   "metadata": {},
   "outputs": [
    {
     "data": {
      "text/html": [
       "<div>\n",
       "<style scoped>\n",
       "    .dataframe tbody tr th:only-of-type {\n",
       "        vertical-align: middle;\n",
       "    }\n",
       "\n",
       "    .dataframe tbody tr th {\n",
       "        vertical-align: top;\n",
       "    }\n",
       "\n",
       "    .dataframe thead th {\n",
       "        text-align: right;\n",
       "    }\n",
       "</style>\n",
       "<table border=\"1\" class=\"dataframe\">\n",
       "  <thead>\n",
       "    <tr style=\"text-align: right;\">\n",
       "      <th></th>\n",
       "      <th>Authors_Rev</th>\n",
       "      <th>Author(s)_ID_Rev</th>\n",
       "      <th>Cited_by</th>\n",
       "    </tr>\n",
       "  </thead>\n",
       "  <tbody>\n",
       "    <tr>\n",
       "      <th>0</th>\n",
       "      <td>Vanzolini P.E.</td>\n",
       "      <td>6602373241</td>\n",
       "      <td>62.0</td>\n",
       "    </tr>\n",
       "    <tr>\n",
       "      <th>1</th>\n",
       "      <td>De Wagener A.L.R.</td>\n",
       "      <td>7004422261</td>\n",
       "      <td>6.0</td>\n",
       "    </tr>\n",
       "    <tr>\n",
       "      <th>2</th>\n",
       "      <td>Mexias A.S.</td>\n",
       "      <td>11739855600</td>\n",
       "      <td>11.0</td>\n",
       "    </tr>\n",
       "    <tr>\n",
       "      <th>3</th>\n",
       "      <td>Berger G.</td>\n",
       "      <td>7202349172</td>\n",
       "      <td>7.0</td>\n",
       "    </tr>\n",
       "    <tr>\n",
       "      <th>4</th>\n",
       "      <td>Gomes M.E.B.</td>\n",
       "      <td>11738879800</td>\n",
       "      <td>11.0</td>\n",
       "    </tr>\n",
       "  </tbody>\n",
       "</table>\n",
       "</div>"
      ],
      "text/plain": [
       "         Authors_Rev Author(s)_ID_Rev  Cited_by\n",
       "0     Vanzolini P.E.       6602373241      62.0\n",
       "1  De Wagener A.L.R.       7004422261       6.0\n",
       "2        Mexias A.S.      11739855600      11.0\n",
       "3          Berger G.       7202349172       7.0\n",
       "4       Gomes M.E.B.      11738879800      11.0"
      ]
     },
     "execution_count": 11,
     "metadata": {},
     "output_type": "execute_result"
    }
   ],
   "source": [
    "df_authors = df_authors.merge(right=df_temp, how='inner', on='Author(s)_ID_Rev')\n",
    "df_authors.head()"
   ]
  },
  {
   "cell_type": "markdown",
   "metadata": {},
   "source": [
    "### Total Artículos publicados"
   ]
  },
  {
   "cell_type": "code",
   "execution_count": 12,
   "metadata": {},
   "outputs": [
    {
     "data": {
      "text/html": [
       "<div>\n",
       "<style scoped>\n",
       "    .dataframe tbody tr th:only-of-type {\n",
       "        vertical-align: middle;\n",
       "    }\n",
       "\n",
       "    .dataframe tbody tr th {\n",
       "        vertical-align: top;\n",
       "    }\n",
       "\n",
       "    .dataframe thead th {\n",
       "        text-align: right;\n",
       "    }\n",
       "</style>\n",
       "<table border=\"1\" class=\"dataframe\">\n",
       "  <thead>\n",
       "    <tr style=\"text-align: right;\">\n",
       "      <th></th>\n",
       "      <th>Author(s)_ID_Rev</th>\n",
       "      <th>Title</th>\n",
       "    </tr>\n",
       "  </thead>\n",
       "  <tbody>\n",
       "    <tr>\n",
       "      <th>0</th>\n",
       "      <td>1</td>\n",
       "      <td>2</td>\n",
       "    </tr>\n",
       "    <tr>\n",
       "      <th>1</th>\n",
       "      <td>10038943700</td>\n",
       "      <td>1</td>\n",
       "    </tr>\n",
       "    <tr>\n",
       "      <th>2</th>\n",
       "      <td>10039167100</td>\n",
       "      <td>1</td>\n",
       "    </tr>\n",
       "    <tr>\n",
       "      <th>3</th>\n",
       "      <td>10039295200</td>\n",
       "      <td>3</td>\n",
       "    </tr>\n",
       "    <tr>\n",
       "      <th>4</th>\n",
       "      <td>10039317900</td>\n",
       "      <td>1</td>\n",
       "    </tr>\n",
       "  </tbody>\n",
       "</table>\n",
       "</div>"
      ],
      "text/plain": [
       "  Author(s)_ID_Rev  Title\n",
       "0                1      2\n",
       "1      10038943700      1\n",
       "2      10039167100      1\n",
       "3      10039295200      3\n",
       "4      10039317900      1"
      ]
     },
     "execution_count": 12,
     "metadata": {},
     "output_type": "execute_result"
    }
   ],
   "source": [
    "df_temp=df[['Author(s)_ID_Rev', 'Title']].groupby(by='Author(s)_ID_Rev').count()\n",
    "#Convierte el indice en otro campo\n",
    "df_temp.reset_index(level=0, inplace=True)\n",
    "df_temp.head(5)"
   ]
  },
  {
   "cell_type": "code",
   "execution_count": 13,
   "metadata": {},
   "outputs": [
    {
     "data": {
      "text/html": [
       "<div>\n",
       "<style scoped>\n",
       "    .dataframe tbody tr th:only-of-type {\n",
       "        vertical-align: middle;\n",
       "    }\n",
       "\n",
       "    .dataframe tbody tr th {\n",
       "        vertical-align: top;\n",
       "    }\n",
       "\n",
       "    .dataframe thead th {\n",
       "        text-align: right;\n",
       "    }\n",
       "</style>\n",
       "<table border=\"1\" class=\"dataframe\">\n",
       "  <thead>\n",
       "    <tr style=\"text-align: right;\">\n",
       "      <th></th>\n",
       "      <th>Authors_Rev</th>\n",
       "      <th>Author(s)_ID_Rev</th>\n",
       "      <th>Cited_by</th>\n",
       "      <th>Title</th>\n",
       "    </tr>\n",
       "  </thead>\n",
       "  <tbody>\n",
       "    <tr>\n",
       "      <th>0</th>\n",
       "      <td>Vanzolini P.E.</td>\n",
       "      <td>6602373241</td>\n",
       "      <td>62.0</td>\n",
       "      <td>5</td>\n",
       "    </tr>\n",
       "    <tr>\n",
       "      <th>1</th>\n",
       "      <td>De Wagener A.L.R.</td>\n",
       "      <td>7004422261</td>\n",
       "      <td>6.0</td>\n",
       "      <td>1</td>\n",
       "    </tr>\n",
       "    <tr>\n",
       "      <th>2</th>\n",
       "      <td>Mexias A.S.</td>\n",
       "      <td>11739855600</td>\n",
       "      <td>11.0</td>\n",
       "      <td>2</td>\n",
       "    </tr>\n",
       "    <tr>\n",
       "      <th>3</th>\n",
       "      <td>Berger G.</td>\n",
       "      <td>7202349172</td>\n",
       "      <td>7.0</td>\n",
       "      <td>1</td>\n",
       "    </tr>\n",
       "    <tr>\n",
       "      <th>4</th>\n",
       "      <td>Gomes M.E.B.</td>\n",
       "      <td>11738879800</td>\n",
       "      <td>11.0</td>\n",
       "      <td>2</td>\n",
       "    </tr>\n",
       "  </tbody>\n",
       "</table>\n",
       "</div>"
      ],
      "text/plain": [
       "         Authors_Rev Author(s)_ID_Rev  Cited_by  Title\n",
       "0     Vanzolini P.E.       6602373241      62.0      5\n",
       "1  De Wagener A.L.R.       7004422261       6.0      1\n",
       "2        Mexias A.S.      11739855600      11.0      2\n",
       "3          Berger G.       7202349172       7.0      1\n",
       "4       Gomes M.E.B.      11738879800      11.0      2"
      ]
     },
     "execution_count": 13,
     "metadata": {},
     "output_type": "execute_result"
    }
   ],
   "source": [
    "df_authors = df_authors.merge(df_temp, how='inner', on ='Author(s)_ID_Rev')\n",
    "df_authors.head()"
   ]
  },
  {
   "cell_type": "markdown",
   "metadata": {},
   "source": [
    "### Máximo número de citaciones"
   ]
  },
  {
   "cell_type": "code",
   "execution_count": 14,
   "metadata": {},
   "outputs": [
    {
     "data": {
      "text/html": [
       "<div>\n",
       "<style scoped>\n",
       "    .dataframe tbody tr th:only-of-type {\n",
       "        vertical-align: middle;\n",
       "    }\n",
       "\n",
       "    .dataframe tbody tr th {\n",
       "        vertical-align: top;\n",
       "    }\n",
       "\n",
       "    .dataframe thead th {\n",
       "        text-align: right;\n",
       "    }\n",
       "</style>\n",
       "<table border=\"1\" class=\"dataframe\">\n",
       "  <thead>\n",
       "    <tr style=\"text-align: right;\">\n",
       "      <th></th>\n",
       "      <th>Author(s)_ID_Rev</th>\n",
       "      <th>Cited_by</th>\n",
       "    </tr>\n",
       "  </thead>\n",
       "  <tbody>\n",
       "    <tr>\n",
       "      <th>0</th>\n",
       "      <td>1</td>\n",
       "      <td>NaN</td>\n",
       "    </tr>\n",
       "    <tr>\n",
       "      <th>1</th>\n",
       "      <td>10038943700</td>\n",
       "      <td>12.0</td>\n",
       "    </tr>\n",
       "    <tr>\n",
       "      <th>2</th>\n",
       "      <td>10039167100</td>\n",
       "      <td>9.0</td>\n",
       "    </tr>\n",
       "    <tr>\n",
       "      <th>3</th>\n",
       "      <td>10039295200</td>\n",
       "      <td>14.0</td>\n",
       "    </tr>\n",
       "    <tr>\n",
       "      <th>4</th>\n",
       "      <td>10039317900</td>\n",
       "      <td>22.0</td>\n",
       "    </tr>\n",
       "  </tbody>\n",
       "</table>\n",
       "</div>"
      ],
      "text/plain": [
       "  Author(s)_ID_Rev  Cited_by\n",
       "0                1       NaN\n",
       "1      10038943700      12.0\n",
       "2      10039167100       9.0\n",
       "3      10039295200      14.0\n",
       "4      10039317900      22.0"
      ]
     },
     "execution_count": 14,
     "metadata": {},
     "output_type": "execute_result"
    }
   ],
   "source": [
    "df_temp=df[['Author(s)_ID_Rev', 'Cited_by']].groupby(by='Author(s)_ID_Rev').max()\n",
    "df_temp.reset_index(level=0, inplace=True)\n",
    "df_temp.head()"
   ]
  },
  {
   "cell_type": "code",
   "execution_count": 15,
   "metadata": {},
   "outputs": [
    {
     "data": {
      "text/html": [
       "<div>\n",
       "<style scoped>\n",
       "    .dataframe tbody tr th:only-of-type {\n",
       "        vertical-align: middle;\n",
       "    }\n",
       "\n",
       "    .dataframe tbody tr th {\n",
       "        vertical-align: top;\n",
       "    }\n",
       "\n",
       "    .dataframe thead th {\n",
       "        text-align: right;\n",
       "    }\n",
       "</style>\n",
       "<table border=\"1\" class=\"dataframe\">\n",
       "  <thead>\n",
       "    <tr style=\"text-align: right;\">\n",
       "      <th></th>\n",
       "      <th>Authors_Rev</th>\n",
       "      <th>Author(s)_ID_Rev</th>\n",
       "      <th>Total_Citation</th>\n",
       "      <th>Total_Title</th>\n",
       "      <th>Max_Citation</th>\n",
       "    </tr>\n",
       "  </thead>\n",
       "  <tbody>\n",
       "    <tr>\n",
       "      <th>0</th>\n",
       "      <td>Vanzolini P.E.</td>\n",
       "      <td>6602373241</td>\n",
       "      <td>62.0</td>\n",
       "      <td>5</td>\n",
       "      <td>17.0</td>\n",
       "    </tr>\n",
       "    <tr>\n",
       "      <th>1</th>\n",
       "      <td>De Wagener A.L.R.</td>\n",
       "      <td>7004422261</td>\n",
       "      <td>6.0</td>\n",
       "      <td>1</td>\n",
       "      <td>6.0</td>\n",
       "    </tr>\n",
       "    <tr>\n",
       "      <th>2</th>\n",
       "      <td>Mexias A.S.</td>\n",
       "      <td>11739855600</td>\n",
       "      <td>11.0</td>\n",
       "      <td>2</td>\n",
       "      <td>7.0</td>\n",
       "    </tr>\n",
       "    <tr>\n",
       "      <th>3</th>\n",
       "      <td>Berger G.</td>\n",
       "      <td>7202349172</td>\n",
       "      <td>7.0</td>\n",
       "      <td>1</td>\n",
       "      <td>7.0</td>\n",
       "    </tr>\n",
       "    <tr>\n",
       "      <th>4</th>\n",
       "      <td>Gomes M.E.B.</td>\n",
       "      <td>11738879800</td>\n",
       "      <td>11.0</td>\n",
       "      <td>2</td>\n",
       "      <td>7.0</td>\n",
       "    </tr>\n",
       "  </tbody>\n",
       "</table>\n",
       "</div>"
      ],
      "text/plain": [
       "         Authors_Rev Author(s)_ID_Rev  Total_Citation  Total_Title  \\\n",
       "0     Vanzolini P.E.       6602373241            62.0            5   \n",
       "1  De Wagener A.L.R.       7004422261             6.0            1   \n",
       "2        Mexias A.S.      11739855600            11.0            2   \n",
       "3          Berger G.       7202349172             7.0            1   \n",
       "4       Gomes M.E.B.      11738879800            11.0            2   \n",
       "\n",
       "   Max_Citation  \n",
       "0          17.0  \n",
       "1           6.0  \n",
       "2           7.0  \n",
       "3           7.0  \n",
       "4           7.0  "
      ]
     },
     "execution_count": 15,
     "metadata": {},
     "output_type": "execute_result"
    }
   ],
   "source": [
    "df_authors = df_authors.merge(right=df_temp, how='inner', on='Author(s)_ID_Rev')\n",
    "df_authors.columns = ['Authors_Rev', 'Author(s)_ID_Rev', 'Total_Citation', 'Total_Title', 'Max_Citation']\n",
    "df_authors['Max_Citation'].fillna(0, inplace=True)\n",
    "df_authors.head()"
   ]
  },
  {
   "cell_type": "markdown",
   "metadata": {},
   "source": [
    "### Número de Revistas"
   ]
  },
  {
   "cell_type": "code",
   "execution_count": 16,
   "metadata": {},
   "outputs": [
    {
     "data": {
      "text/html": [
       "<div>\n",
       "<style scoped>\n",
       "    .dataframe tbody tr th:only-of-type {\n",
       "        vertical-align: middle;\n",
       "    }\n",
       "\n",
       "    .dataframe tbody tr th {\n",
       "        vertical-align: top;\n",
       "    }\n",
       "\n",
       "    .dataframe thead th {\n",
       "        text-align: right;\n",
       "    }\n",
       "</style>\n",
       "<table border=\"1\" class=\"dataframe\">\n",
       "  <thead>\n",
       "    <tr style=\"text-align: right;\">\n",
       "      <th></th>\n",
       "      <th>Author(s)_ID_Rev</th>\n",
       "      <th>Total_Journal</th>\n",
       "    </tr>\n",
       "  </thead>\n",
       "  <tbody>\n",
       "    <tr>\n",
       "      <th>113947</th>\n",
       "      <td>[No author id available</td>\n",
       "      <td>42</td>\n",
       "    </tr>\n",
       "    <tr>\n",
       "      <th>11178</th>\n",
       "      <td>24398551800</td>\n",
       "      <td>11</td>\n",
       "    </tr>\n",
       "    <tr>\n",
       "      <th>96934</th>\n",
       "      <td>6701841406</td>\n",
       "      <td>8</td>\n",
       "    </tr>\n",
       "    <tr>\n",
       "      <th>108619</th>\n",
       "      <td>7403266610</td>\n",
       "      <td>8</td>\n",
       "    </tr>\n",
       "    <tr>\n",
       "      <th>3795</th>\n",
       "      <td>15059745800</td>\n",
       "      <td>8</td>\n",
       "    </tr>\n",
       "  </tbody>\n",
       "</table>\n",
       "</div>"
      ],
      "text/plain": [
       "               Author(s)_ID_Rev  Total_Journal\n",
       "113947  [No author id available             42\n",
       "11178               24398551800             11\n",
       "96934                6701841406              8\n",
       "108619               7403266610              8\n",
       "3795                15059745800              8"
      ]
     },
     "execution_count": 16,
     "metadata": {},
     "output_type": "execute_result"
    }
   ],
   "source": [
    "df_temp=df[['Author(s)_ID_Rev', 'Source_title']].groupby(by=['Author(s)_ID_Rev']).nunique()\n",
    "df_temp = df_temp[['Source_title']]\n",
    "df_temp.reset_index(level=0, inplace=True)\n",
    "df_temp.columns = ['Author(s)_ID_Rev','Total_Journal']\n",
    "df_temp.sort_values(by='Total_Journal', ascending = False, inplace= True)\n",
    "df_temp.head()"
   ]
  },
  {
   "cell_type": "code",
   "execution_count": 58,
   "metadata": {},
   "outputs": [],
   "source": [
    "df_authors = df_authors.merge(df_temp, how='inner', on ='Author(s)_ID_Rev')\n"
   ]
  },
  {
   "cell_type": "code",
   "execution_count": 18,
   "metadata": {},
   "outputs": [],
   "source": [
    "año_actual=int(date.today().strftime(\"%Y\"))\n",
    "año_pasado=año_actual-1"
   ]
  },
  {
   "cell_type": "code",
   "execution_count": 19,
   "metadata": {},
   "outputs": [],
   "source": [
    "df2_años=df[(df['Year']==año_actual) | (df['Year']==año_pasado) ]"
   ]
  },
  {
   "cell_type": "markdown",
   "metadata": {},
   "source": [
    "### Total Publicaciones últimos dos años"
   ]
  },
  {
   "cell_type": "code",
   "execution_count": 20,
   "metadata": {},
   "outputs": [],
   "source": [
    "df_temp=df2_años[['Author(s)_ID_Rev', 'Title']].groupby(by='Author(s)_ID_Rev').count()\n",
    "df_temp.reset_index(level=0, inplace=True)\n",
    "df_temp.columns = ['Author(s)_ID_Rev','Delta_publications']\n",
    "df_authors = df_authors.merge(df_temp, how='left', on ='Author(s)_ID_Rev')"
   ]
  },
  {
   "cell_type": "code",
   "execution_count": 21,
   "metadata": {},
   "outputs": [],
   "source": [
    "df_authors['Delta_publications'].fillna(0, inplace=True)\n"
   ]
  },
  {
   "cell_type": "markdown",
   "metadata": {},
   "source": [
    "### Carrera Autor"
   ]
  },
  {
   "cell_type": "code",
   "execution_count": 56,
   "metadata": {},
   "outputs": [],
   "source": [
    "df_temp = df[['Author(s)_ID_Rev','Year']].groupby(by = 'Author(s)_ID_Rev').min()\n",
    "df_temp.reset_index(level=0, inplace=True)\n",
    "df2_temp = df[['Author(s)_ID_Rev','Year']].groupby(by = 'Author(s)_ID_Rev').max()\n",
    "df2_temp.reset_index(level=0, inplace=True)\n",
    "df_temp = df_temp.merge(df2_temp, how='left', on='Author(s)_ID_Rev')\n",
    "df_temp['carrera_autor'] =  df_temp['Year_y'] - df_temp['Year_x']\n",
    "df_authors = df_authors.merge(df_temp[['Author(s)_ID_Rev','carrera_autor']], how='left', on ='Author(s)_ID_Rev')"
   ]
  },
  {
   "cell_type": "markdown",
   "metadata": {},
   "source": [
    "### Total Coautores ultimos dos años"
   ]
  },
  {
   "cell_type": "markdown",
   "metadata": {},
   "source": [
    "#### Leer\n",
    "* Identificación de Todos los autores\n",
    "* para cada autor se revisan los papers que en los que aparece\n",
    "* para cada paper de ese autor se revisan cuantas veces aparece bajo un nombre diferente al del autor superior\n",
    "* si el autor que aparece no se ha añadido a la lista de coautores se hace.\n",
    "\n",
    "# Esto se demora corriendo alrededor de 10 minutos\n",
    "## puedes irte a tomar una bebida caliente mientras tanto\n",
    "### es en serio :( :("
   ]
  },
  {
   "cell_type": "code",
   "execution_count": 35,
   "metadata": {},
   "outputs": [],
   "source": [
    "start = time.time()\n",
    "#Línea de prueba para correr rápido\n",
    "#lista_autores = df2_años['Author(s)_ID_Rev'][df2_años['Author(s)_ID_Rev']=='53866250100'].unique()\n",
    "lista_autores = df2_años['Author(s)_ID_Rev'].unique()[:]\n",
    "lista_coautores = []\n",
    "for autor in lista_autores:\n",
    "    df_paper = df2_años[['Author(s)_ID_Rev','Title']][df2_años['Author(s)_ID_Rev']==autor]\n",
    "    lista_papers = df_paper['Title']\n",
    "    coautores = []\n",
    "    for paper in lista_papers:\n",
    "        coautor = (df2_años[['Author(s)_ID_Rev','Title']][(df2_años['Title']==paper)&(df2_años['Author(s)_ID_Rev']!=autor)]\n",
    "                   ['Author(s)_ID_Rev'])\n",
    "        if len(coautor)==0:\n",
    "            continue\n",
    "        else:\n",
    "            coautor = (df2_años[['Author(s)_ID_Rev','Title']][(df2_años['Title']==paper)&(df2_años['Author(s)_ID_Rev']!=autor)]\n",
    "                   ['Author(s)_ID_Rev'])\n",
    "        for c in coautor:\n",
    "            if c is not coautores:\n",
    "                coautores.append(c)\n",
    "    del(df_paper)\n",
    "    lista_coautores.append([autor,len(coautores)])\n",
    "end = time.time()\n",
    "#print((end - start)/60)"
   ]
  },
  {
   "cell_type": "code",
   "execution_count": 36,
   "metadata": {},
   "outputs": [
    {
     "data": {
      "text/plain": [
       "11.491760043303172"
      ]
     },
     "execution_count": 36,
     "metadata": {},
     "output_type": "execute_result"
    }
   ],
   "source": [
    "#Tiempo de ejecución\n",
    "(end -start)/60"
   ]
  },
  {
   "cell_type": "code",
   "execution_count": 38,
   "metadata": {},
   "outputs": [],
   "source": [
    "#lista_coautores"
   ]
  },
  {
   "cell_type": "code",
   "execution_count": 57,
   "metadata": {},
   "outputs": [],
   "source": [
    "df2_temp = pd.DataFrame(lista_coautores, columns=['Author(s)_ID_Rev','Delta_coautores'])\n"
   ]
  },
  {
   "cell_type": "code",
   "execution_count": 40,
   "metadata": {},
   "outputs": [],
   "source": [
    "df_authors = df_authors.merge(df2_temp, how='left', on='Author(s)_ID_Rev').sort_values(by='Delta_publications', ascending = False).head()\n"
   ]
  },
  {
   "cell_type": "markdown",
   "metadata": {},
   "source": [
    "#######################################################"
   ]
  },
  {
   "cell_type": "markdown",
   "metadata": {},
   "source": [
    "Continuar a partir de acá"
   ]
  },
  {
   "cell_type": "code",
   "execution_count": 77,
   "metadata": {},
   "outputs": [],
   "source": [
    "df_authors.to_csv(r'C:/Users/Ecsim/Documents/Data/df_authors.csv')"
   ]
  },
  {
   "cell_type": "markdown",
   "metadata": {},
   "source": [
    "########################################################"
   ]
  },
  {
   "cell_type": "code",
   "execution_count": 64,
   "metadata": {},
   "outputs": [],
   "source": [
    "df_temp = df[['Source_title','Cited_by']].groupby(by='Source_title').mean().fillna(0)\n",
    "df_temp.reset_index(level=0, inplace=True)"
   ]
  },
  {
   "cell_type": "code",
   "execution_count": 73,
   "metadata": {},
   "outputs": [
    {
     "data": {
      "text/plain": [
       "113948"
      ]
     },
     "execution_count": 73,
     "metadata": {},
     "output_type": "execute_result"
    }
   ],
   "source": [
    "df2_temp = df[['Author(s)_ID_Rev','Source_title','Cited_by']].groupby(by=['Author(s)_ID_Rev','Source_title']).mean().fillna(0)\n",
    "df2_temp.reset_index(level=['Author(s)_ID_Rev','Source_title'],inplace=True)\n",
    "df2_temp = df2_temp[['Author(s)_ID_Rev','Cited_by']].groupby(by='Author(s)_ID_Rev').mean()\n",
    "df2_temp.reset_index(level=0,inplace=True)"
   ]
  },
  {
   "cell_type": "code",
   "execution_count": 78,
   "metadata": {},
   "outputs": [
    {
     "data": {
      "text/html": [
       "<div>\n",
       "<style scoped>\n",
       "    .dataframe tbody tr th:only-of-type {\n",
       "        vertical-align: middle;\n",
       "    }\n",
       "\n",
       "    .dataframe tbody tr th {\n",
       "        vertical-align: top;\n",
       "    }\n",
       "\n",
       "    .dataframe thead th {\n",
       "        text-align: right;\n",
       "    }\n",
       "</style>\n",
       "<table border=\"1\" class=\"dataframe\">\n",
       "  <thead>\n",
       "    <tr style=\"text-align: right;\">\n",
       "      <th></th>\n",
       "      <th>Authors_Rev</th>\n",
       "      <th>Author(s)_ID_Rev</th>\n",
       "      <th>Total_Citation</th>\n",
       "      <th>Total_Title</th>\n",
       "      <th>Max_Citation</th>\n",
       "      <th>Total_Journal</th>\n",
       "      <th>Delta_publications</th>\n",
       "      <th>Delta_coautores</th>\n",
       "      <th>carrera_autor</th>\n",
       "    </tr>\n",
       "  </thead>\n",
       "  <tbody>\n",
       "    <tr>\n",
       "      <th>0</th>\n",
       "      <td>Guarda T.</td>\n",
       "      <td>53866250100</td>\n",
       "      <td>1.0</td>\n",
       "      <td>20</td>\n",
       "      <td>1.0</td>\n",
       "      <td>1</td>\n",
       "      <td>20.0</td>\n",
       "      <td>60.0</td>\n",
       "      <td>1</td>\n",
       "    </tr>\n",
       "    <tr>\n",
       "      <th>1</th>\n",
       "      <td>[No author name available]</td>\n",
       "      <td>[No author id available</td>\n",
       "      <td>53.0</td>\n",
       "      <td>390</td>\n",
       "      <td>8.0</td>\n",
       "      <td>42</td>\n",
       "      <td>18.0</td>\n",
       "      <td>0.0</td>\n",
       "      <td>46</td>\n",
       "    </tr>\n",
       "    <tr>\n",
       "      <th>2</th>\n",
       "      <td>Alsaedi A.</td>\n",
       "      <td>55664358300</td>\n",
       "      <td>223.0</td>\n",
       "      <td>30</td>\n",
       "      <td>34.0</td>\n",
       "      <td>2</td>\n",
       "      <td>18.0</td>\n",
       "      <td>55.0</td>\n",
       "      <td>6</td>\n",
       "    </tr>\n",
       "    <tr>\n",
       "      <th>3</th>\n",
       "      <td>Hayat T.</td>\n",
       "      <td>8856998000</td>\n",
       "      <td>379.0</td>\n",
       "      <td>37</td>\n",
       "      <td>83.0</td>\n",
       "      <td>3</td>\n",
       "      <td>18.0</td>\n",
       "      <td>55.0</td>\n",
       "      <td>8</td>\n",
       "    </tr>\n",
       "    <tr>\n",
       "      <th>4</th>\n",
       "      <td>Khan M.</td>\n",
       "      <td>55579497400</td>\n",
       "      <td>132.0</td>\n",
       "      <td>22</td>\n",
       "      <td>33.0</td>\n",
       "      <td>1</td>\n",
       "      <td>17.0</td>\n",
       "      <td>47.0</td>\n",
       "      <td>3</td>\n",
       "    </tr>\n",
       "  </tbody>\n",
       "</table>\n",
       "</div>"
      ],
      "text/plain": [
       "                  Authors_Rev         Author(s)_ID_Rev  Total_Citation  \\\n",
       "0                   Guarda T.              53866250100             1.0   \n",
       "1  [No author name available]  [No author id available            53.0   \n",
       "2                  Alsaedi A.              55664358300           223.0   \n",
       "3                    Hayat T.               8856998000           379.0   \n",
       "4                     Khan M.              55579497400           132.0   \n",
       "\n",
       "   Total_Title  Max_Citation  Total_Journal  Delta_publications  \\\n",
       "0           20           1.0              1                20.0   \n",
       "1          390           8.0             42                18.0   \n",
       "2           30          34.0              2                18.0   \n",
       "3           37          83.0              3                18.0   \n",
       "4           22          33.0              1                17.0   \n",
       "\n",
       "   Delta_coautores  carrera_autor  \n",
       "0             60.0              1  \n",
       "1              0.0             46  \n",
       "2             55.0              6  \n",
       "3             55.0              8  \n",
       "4             47.0              3  "
      ]
     },
     "execution_count": 78,
     "metadata": {},
     "output_type": "execute_result"
    }
   ],
   "source": [
    "df_authors"
   ]
  },
  {
   "cell_type": "code",
   "execution_count": null,
   "metadata": {},
   "outputs": [],
   "source": []
  },
  {
   "cell_type": "code",
   "execution_count": null,
   "metadata": {},
   "outputs": [],
   "source": []
  },
  {
   "cell_type": "code",
   "execution_count": null,
   "metadata": {},
   "outputs": [],
   "source": []
  }
 ],
 "metadata": {
  "kernelspec": {
   "display_name": "Python 3",
   "language": "python",
   "name": "python3"
  },
  "language_info": {
   "codemirror_mode": {
    "name": "ipython",
    "version": 3
   },
   "file_extension": ".py",
   "mimetype": "text/x-python",
   "name": "python",
   "nbconvert_exporter": "python",
   "pygments_lexer": "ipython3",
   "version": "3.6.5"
  }
 },
 "nbformat": 4,
 "nbformat_minor": 2
}
