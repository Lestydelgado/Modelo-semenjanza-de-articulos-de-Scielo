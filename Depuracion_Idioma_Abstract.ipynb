{
 "cells": [
  {
   "cell_type": "markdown",
   "metadata": {},
   "source": [
    "# Depurar el segundo idioma en los abstracts"
   ]
  },
  {
   "cell_type": "markdown",
   "metadata": {},
   "source": [
    "###  Importación de librerias"
   ]
  },
  {
   "cell_type": "code",
   "execution_count": 1,
   "metadata": {},
   "outputs": [],
   "source": [
    "import pandas as pd\n",
    "import numpy as np\n",
    "import nltk as nk\n",
    "import seaborn as sns\n",
    "import matplotlib.pyplot as plt\n",
    "pd.set_option('display.max_columns', None)\n",
    "import string\n",
    "from nltk.corpus import stopwords\n",
    "from nltk.corpus import wordnet\n",
    "from nltk.tokenize import word_tokenize"
   ]
  },
  {
   "cell_type": "markdown",
   "metadata": {},
   "source": [
    "### Cargue de df"
   ]
  },
  {
   "cell_type": "code",
   "execution_count": 2,
   "metadata": {},
   "outputs": [
    {
     "name": "stderr",
     "output_type": "stream",
     "text": [
      "C:\\Users\\PC1\\Anaconda3\\lib\\site-packages\\IPython\\core\\interactiveshell.py:3049: DtypeWarning: Columns (20,22) have mixed types. Specify dtype option on import or set low_memory=False.\n",
      "  interactivity=interactivity, compiler=compiler, result=result)\n"
     ]
    }
   ],
   "source": [
    "df_ini = pd.read_csv('scopus_bd - copia.csv', encoding='latin-1')"
   ]
  },
  {
   "cell_type": "markdown",
   "metadata": {},
   "source": [
    "### Definición de función"
   ]
  },
  {
   "cell_type": "code",
   "execution_count": 3,
   "metadata": {},
   "outputs": [],
   "source": [
    "stop_eng = set(stopwords.words('english')) # Carga las stop words en inglés\n",
    "stop_spa = set(stopwords.words('spanish')) # Carga las stop words en español\n",
    "\n",
    "def remove_spanish(sentence):\n",
    "    lower = sentence.lower() # Convierte las mayusculas en minusculas\n",
    "    lower_aux = lower.maketrans('', '', string.punctuation) # Remueve la puntuación de la sentencia\n",
    "    sentence_aux = lower.translate(lower_aux) # Ejecuta la remosión de puntuación\n",
    "    words = word_tokenize(sentence_aux) # Convierte la cadena en una lista de palabras\n",
    "    words_rem = [t for t in words if t not in stop_eng and t not in stop_spa] # remueve las palabras stop words\n",
    "    eng = []\n",
    "    # Ciclo que remueve las palabras en español de la sentencia\n",
    "    # No es 100% falible por que hay palabras que no están en el diccionario, pero disminuye drásticamente\n",
    "    # el contenido de palabras en español considerablemente\n",
    "    for i in words_rem:\n",
    "        if wordnet.synsets(i): \n",
    "            eng.append(i)\n",
    "    sentence = ' '.join(word for word in eng)\n",
    "    return sentence"
   ]
  },
  {
   "cell_type": "code",
   "execution_count": 4,
   "metadata": {},
   "outputs": [
    {
     "name": "stdout",
     "output_type": "stream",
     "text": [
      "<class 'pandas.core.frame.DataFrame'>\n",
      "RangeIndex: 52002 entries, 0 to 52001\n",
      "Data columns (total 28 columns):\n",
      "Authors                      52002 non-null object\n",
      "Author(s)_ID                 52002 non-null object\n",
      "Title                        52002 non-null object\n",
      "Year                         52002 non-null int64\n",
      "Source_title                 52002 non-null object\n",
      "Volume                       50956 non-null object\n",
      "Issue                        50618 non-null object\n",
      "Art._No.                     3184 non-null object\n",
      "Page_start                   47527 non-null object\n",
      "Page_end                     46564 non-null object\n",
      "Page_count                   331 non-null float64\n",
      "Cited_by                     32595 non-null float64\n",
      "DOI                          26533 non-null object\n",
      "Link                         52002 non-null object\n",
      "Affiliations                 50159 non-null object\n",
      "Authors_with_affiliations    51612 non-null object\n",
      "Abstract                     52002 non-null object\n",
      "Author_Keywords              41815 non-null object\n",
      "Index_Keywords               31146 non-null object\n",
      "ISSN                         51843 non-null object\n",
      "ISBN                         35 non-null object\n",
      "CODEN                        11801 non-null object\n",
      "PubMed_ID                    2037 non-null object\n",
      "Document_Type                51954 non-null object\n",
      "Publication_Stage            52002 non-null object\n",
      "Access_Type                  23050 non-null object\n",
      "Source                       52002 non-null object\n",
      "EID                          52002 non-null object\n",
      "dtypes: float64(2), int64(1), object(25)\n",
      "memory usage: 11.1+ MB\n"
     ]
    }
   ],
   "source": [
    "df_ini.info()"
   ]
  },
  {
   "cell_type": "markdown",
   "metadata": {},
   "source": [
    "### Aplicación de la función sobre los Abstracts y creación de otra columna en el df"
   ]
  },
  {
   "cell_type": "code",
   "execution_count": 5,
   "metadata": {},
   "outputs": [],
   "source": [
    "df_ini['Abstract_ing'] = list(map(lambda x: remove_spanish(x),df_ini['Abstract']))"
   ]
  },
  {
   "cell_type": "code",
   "execution_count": 10,
   "metadata": {},
   "outputs": [
    {
     "data": {
      "text/plain": [
       "0        previously considered subspecies g wide distri...\n",
       "1        paper addresses limitations scarcity reliable ...\n",
       "2        modeling gold deposition performed using softw...\n",
       "3        sulfated polysaccharides capable binding prote...\n",
       "4        synthetic aperture radar satellites source dir...\n",
       "5        review covers history biological nitrogen fixa...\n",
       "6        cycle plasmodium presents particularity relati...\n",
       "7        chagas disease control initiatives yielding pr...\n",
       "8        bibliographic search performed medline using c...\n",
       "9        many barriers world termed beach ridge plains ...\n",
       "10       analyses parameters box cores zone southeaster...\n",
       "11       alexander humboldts expedition till equinoctia...\n",
       "12       high specificity blood coagulation proteases a...\n",
       "13       architectures attracted attention promise scal...\n",
       "14       galactose treated containing traces h 25 grade...\n",
       "15       striae furrows found upper surfaces three supe...\n",
       "16       vaccines cell surface carbohydrate microorgani...\n",
       "17       review published papers results analysis new m...\n",
       "18       electrical stimulation hypothalamus produces c...\n",
       "19       holocene beach state pernambuco northeastern b...\n",
       "20       values five carbonate successions complex nort...\n",
       "21       high fidelity calcium carbonate inorganic repl...\n",
       "22       role system feeding behavior appraised electro...\n",
       "23       animals used medicinal resources treatment rel...\n",
       "24       several analytic techniques used determine sex...\n",
       "25       etiological agent chagas disease occurs differ...\n",
       "26       samples supposedly columbite group collected p...\n",
       "27       prove countable family subspaces hilbert space...\n",
       "28       alto pegmatite region northeastern brazil 60 g...\n",
       "29       prove general optimal euclidean inequalities u...\n",
       "                               ...                        \n",
       "51972    comparison extracts isolates accumulated isola...\n",
       "51973    zero discharge mode operation south fuel synth...\n",
       "51974    part series papers procedures reported develop...\n",
       "51975    mathematical model presented describes kinetic...\n",
       "51976    bacteria forming occur open water cooling syst...\n",
       "51977    overcome difficulties end point estimation g g...\n",
       "51978    improved method preparation samples determinat...\n",
       "51979    effect substrates enriched protein compared se...\n",
       "51980    progress treatment waste water south africa 18...\n",
       "51981    method determination phosphate surface waters ...\n",
       "51982    new single cable design submersible stirrer ox...\n",
       "51983    paper describes structure interactive computer...\n",
       "51984    control sludge bulking studied four parallel 1...\n",
       "51985    use made zooplankton artemia artificial diet g...\n",
       "51986    paper covers spatial variations rainfall south...\n",
       "51987    hydraulic used determine water use efficiency ...\n",
       "51988    common problem biological foaming associated h...\n",
       "51989    university cape towns steady state model activ...\n",
       "51990    two catchments johannesburg one densely city c...\n",
       "51991    treatment process employed bottle washing plan...\n",
       "51992    systems starting 100 cent municipal waste wate...\n",
       "51993    faecal clostridia faecal faecal streptococci n...\n",
       "51994    efficiency methods used volume reduction munic...\n",
       "51995    paper deals control bulking chlorination 15 bi...\n",
       "51996    systems widely used means disposal human waste...\n",
       "51997    filamentous bulking sludges found three quarte...\n",
       "51998    turbidity regimes within estuary investigated ...\n",
       "51999    paper describes determination fe mn mineral wa...\n",
       "52000    records three research area near southwestern ...\n",
       "52001    method described generating flood frequency in...\n",
       "Name: Abstract_ing, Length: 52002, dtype: object"
      ]
     },
     "execution_count": 10,
     "metadata": {},
     "output_type": "execute_result"
    }
   ],
   "source": [
    "df_ini['Abstract_ing']"
   ]
  },
  {
   "cell_type": "markdown",
   "metadata": {},
   "source": [
    "### Validación de que la aplicación si haya corrido"
   ]
  },
  {
   "cell_type": "code",
   "execution_count": 8,
   "metadata": {},
   "outputs": [
    {
     "data": {
      "text/plain": [
       "'This article shows the results of the study whose aim is to understand the formative practices that develop teachers in the programs offered by the Faculty of Education of UNIMINUTO in the city of Bogota, Colombia. The type of research is qualitative and the technique used to promote the participation and reflection of teachers was through focus groups. The field work was occupies to describe, from the perspective of the subjects, the opinion and reflection on teaching practices implemented in the formative processes. Deepens in five factors that have to do with the institutional, axiological, evaluation, inclusion and what discipline. Performed eight sessions with 10 teachers, four of these meetings were with experts on issues related to the practice of university teaching, there is the exchange of teaching experiences and didactic. It is found that it is necessary to promote permanent dialog between teachers for the exchange of significant experiences of training. It is evident in the dialogs with the participants that the processes of inclusion and qualitative evaluation in the formative practices deserve to be rethought.  ¸ 2018, Centro de Informacion Tecnologica.El articulo muestra los resultados de un estudio cuyo objetivo es comprender las pr\\xa0cticas formativas que desarrollan los docentes en los programas ofertados por la Facultad de Educación de UNIMINUTO en la ciudad de Bogot\\xa0, Colombia. El tipo de investigación es cualitativo y la t\\x82cnica utilizada para promover la participación y reflexión de los docentes es mediante grupos focales. El trabajo de campo se ocupa de describir, desde la perspectiva de los sujetos, la opinión y reflexión sobre las pr\\xa0cticas docentes implementadas en los procesos formativos. Se profundiza en cinco factores que tienen que ver con lo institucional, lo axiol¢gico, la evaluación, la inclusión y lo disciplinar. Se realizan ocho sesiones con 10 docentes, cuatro de estos encuentros son con expertos en temas relacionados con la pr\\xa0ctica docente universitaria, allí se da el intercambio de experiencias pedag¢gicas y did\\xa0cticas. Se encuentra que es necesario promover encuentros permanentes entre docentes para intercambiar experiencias significativas de formación. Así mismo, se evidencia en los di\\xa0logos con los participantes que los procesos de inclusión y evaluación cualitativa en las pr\\xa0cticas formativas ameritan ser repensados.  ¸ 2018, Centro de Informacion Tecnologica.'"
      ]
     },
     "execution_count": 8,
     "metadata": {},
     "output_type": "execute_result"
    }
   ],
   "source": [
    "df_ini['Abstract'][15445]"
   ]
  },
  {
   "cell_type": "code",
   "execution_count": 9,
   "metadata": {},
   "outputs": [
    {
     "data": {
      "text/plain": [
       "'article shows results study aim understand formative practices develop teachers programs offered faculty education city bogota colombia type research qualitative technique used promote participation reflection teachers focus groups field work occupies describe perspective subjects opinion reflection teaching practices implemented formative processes deepens five factors institutional axiological evaluation inclusion discipline performed eight sessions 10 teachers four meetings experts issues related practice university teaching exchange teaching experiences didactic found necessary promote permanent dialog teachers exchange significant experiences training evident dialogs participants processes inclusion qualitative evaluation formative practices deserve rethought pr colombia pr factores ver 10 pr da logos pr'"
      ]
     },
     "execution_count": 9,
     "metadata": {},
     "output_type": "execute_result"
    }
   ],
   "source": [
    "df_ini['Abstract_ing'][15445]"
   ]
  },
  {
   "cell_type": "markdown",
   "metadata": {},
   "source": [
    "### Exportar a un csv los titulos con los abstracts modificados"
   ]
  },
  {
   "cell_type": "code",
   "execution_count": 13,
   "metadata": {},
   "outputs": [],
   "source": [
    "df_export = df_ini[['Title','Abstract_ing']]\n",
    "columns_save = ['Title','Abstract_ing']"
   ]
  },
  {
   "cell_type": "code",
   "execution_count": 14,
   "metadata": {},
   "outputs": [],
   "source": [
    "df_export.to_csv(\"abstract_eng.csv\",columns=columns_save,sep=',',index=False)"
   ]
  },
  {
   "cell_type": "code",
   "execution_count": null,
   "metadata": {},
   "outputs": [],
   "source": []
  }
 ],
 "metadata": {
  "kernelspec": {
   "display_name": "Python 3",
   "language": "python",
   "name": "python3"
  },
  "language_info": {
   "codemirror_mode": {
    "name": "ipython",
    "version": 3
   },
   "file_extension": ".py",
   "mimetype": "text/x-python",
   "name": "python",
   "nbconvert_exporter": "python",
   "pygments_lexer": "ipython3",
   "version": "3.7.3"
  }
 },
 "nbformat": 4,
 "nbformat_minor": 2
}
